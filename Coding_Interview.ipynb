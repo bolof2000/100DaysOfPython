{
  "nbformat": 4,
  "nbformat_minor": 0,
  "metadata": {
    "colab": {
      "name": "Coding Interview.ipynb",
      "provenance": [],
      "authorship_tag": "ABX9TyOG/iQaW5PSD0+UANE0DEsC",
      "include_colab_link": true
    },
    "kernelspec": {
      "name": "python3",
      "display_name": "Python 3"
    }
  },
  "cells": [
    {
      "cell_type": "markdown",
      "metadata": {
        "id": "view-in-github",
        "colab_type": "text"
      },
      "source": [
        "<a href=\"https://colab.research.google.com/github/bolof2000/100DaysOfPython/blob/master/Coding_Interview.ipynb\" target=\"_parent\"><img src=\"https://colab.research.google.com/assets/colab-badge.svg\" alt=\"Open In Colab\"/></a>"
      ]
    },
    {
      "cell_type": "code",
      "metadata": {
        "id": "ObG2dptpZsOn",
        "colab_type": "code",
        "colab": {}
      },
      "source": [
        "def myfunc(*args):\n",
        "  return sum(args)\n",
        "  "
      ],
      "execution_count": null,
      "outputs": []
    },
    {
      "cell_type": "code",
      "metadata": {
        "id": "YSdqQrT4EhID",
        "colab_type": "code",
        "colab": {}
      },
      "source": [
        "myfunc()"
      ],
      "execution_count": null,
      "outputs": []
    },
    {
      "cell_type": "code",
      "metadata": {
        "id": "hAQNexrnGqcb",
        "colab_type": "code",
        "colab": {}
      },
      "source": [
        "class Area():\n",
        "\n",
        "  pi = 3.14\n",
        "\n",
        "  def __init__(self,radius,height):\n",
        "    self.radius = radius\n",
        "    self.height = height\n",
        "\n",
        "\n",
        "  def area_calculation(self):\n",
        "\n",
        "    return self.radius*self.height*self.pi*0.5\n",
        "\n"
      ],
      "execution_count": null,
      "outputs": []
    },
    {
      "cell_type": "code",
      "metadata": {
        "id": "38ui_NOqIASG",
        "colab_type": "code",
        "colab": {}
      },
      "source": [
        "area = Area(10,20)"
      ],
      "execution_count": null,
      "outputs": []
    },
    {
      "cell_type": "code",
      "metadata": {
        "id": "mrBZ8iZOIK8c",
        "colab_type": "code",
        "colab": {
          "base_uri": "https://localhost:8080/",
          "height": 34
        },
        "outputId": "5aacde1b-1dd1-448b-efbc-778a48ff3525"
      },
      "source": [
        "area.area_calculation()"
      ],
      "execution_count": null,
      "outputs": [
        {
          "output_type": "execute_result",
          "data": {
            "text/plain": [
              "314.0"
            ]
          },
          "metadata": {
            "tags": []
          },
          "execution_count": 5
        }
      ]
    },
    {
      "cell_type": "code",
      "metadata": {
        "id": "eqFQZy0XKQjt",
        "colab_type": "code",
        "colab": {
          "base_uri": "https://localhost:8080/",
          "height": 34
        },
        "outputId": "922e6744-17c0-49dd-d672-924f69d5f6fb"
      },
      "source": [
        "try:\n",
        "\n",
        "  def summation(a,b):\n",
        "    return a+b\n",
        "except:\n",
        "  print(\"incorrect value\")\n",
        "else:\n",
        "  print(\"add went well\")"
      ],
      "execution_count": null,
      "outputs": [
        {
          "output_type": "stream",
          "text": [
            "add went well\n"
          ],
          "name": "stdout"
        }
      ]
    },
    {
      "cell_type": "code",
      "metadata": {
        "id": "s9xgzt_aOrmL",
        "colab_type": "code",
        "colab": {}
      },
      "source": [
        "import re"
      ],
      "execution_count": null,
      "outputs": []
    },
    {
      "cell_type": "code",
      "metadata": {
        "id": "BhlkmiCyQgRP",
        "colab_type": "code",
        "colab": {}
      },
      "source": [
        "def findTextInString(text,string):\n",
        "\n",
        "  matched1 = re.findall(string,text)\n",
        "  matched2 = re.search(r'')\n",
        "  return len(matched1)"
      ],
      "execution_count": null,
      "outputs": []
    },
    {
      "cell_type": "code",
      "metadata": {
        "id": "ySzgd46kTiIT",
        "colab_type": "code",
        "colab": {}
      },
      "source": [
        ""
      ],
      "execution_count": null,
      "outputs": []
    },
    {
      "cell_type": "code",
      "metadata": {
        "id": "BWgAoz-qSg--",
        "colab_type": "code",
        "colab": {
          "base_uri": "https://localhost:8080/",
          "height": 34
        },
        "outputId": "303b2d61-44c7-4e47-ba63-eaa7efc8e362"
      },
      "source": [
        "mytext = 'my phone once, my phone twice'\n",
        "mystring = 'phone'\n",
        "findTextInString(string=mystring,text=mytext)"
      ],
      "execution_count": null,
      "outputs": [
        {
          "output_type": "execute_result",
          "data": {
            "text/plain": [
              "2"
            ]
          },
          "metadata": {
            "tags": []
          },
          "execution_count": 23
        }
      ]
    },
    {
      "cell_type": "code",
      "metadata": {
        "id": "rvACQE5fTjIC",
        "colab_type": "code",
        "colab": {
          "base_uri": "https://localhost:8080/",
          "height": 34
        },
        "outputId": "9ba92f60-7c21-4986-c714-37af2d51cb0a"
      },
      "source": [
        "text = 'my phone once, my phone twice'\n",
        "match = re.findall('phone',text)\n",
        "print(len(match))"
      ],
      "execution_count": null,
      "outputs": [
        {
          "output_type": "stream",
          "text": [
            "2\n"
          ],
          "name": "stdout"
        }
      ]
    },
    {
      "cell_type": "code",
      "metadata": {
        "id": "Jhvra2aOa2UT",
        "colab_type": "code",
        "colab": {}
      },
      "source": [
        "def cleanSentence(sen):\n",
        "\n",
        "  "
      ],
      "execution_count": null,
      "outputs": []
    },
    {
      "cell_type": "code",
      "metadata": {
        "id": "amJUKnHdf2PX",
        "colab_type": "code",
        "colab": {
          "base_uri": "https://localhost:8080/",
          "height": 34
        },
        "outputId": "958bcc17-d083-4d7c-e619-744a467b3fe2"
      },
      "source": [
        "phrase = 'there are 3 numbers 34 inside 5 this sentence'\n",
        "pattern = r'[^\\d]+'\n",
        "re.findall(pattern,phrase)"
      ],
      "execution_count": null,
      "outputs": [
        {
          "output_type": "execute_result",
          "data": {
            "text/plain": [
              "['there are ', ' numbers ', ' inside ', ' this sentence']"
            ]
          },
          "metadata": {
            "tags": []
          },
          "execution_count": 29
        }
      ]
    },
    {
      "cell_type": "code",
      "metadata": {
        "id": "H6gco3fAg5yT",
        "colab_type": "code",
        "colab": {
          "base_uri": "https://localhost:8080/",
          "height": 51
        },
        "outputId": "47c0713e-c39f-456c-b6e4-dbc5edcdbe6f"
      },
      "source": [
        "test_phrase = 'this is 2  a string! but it has 3 special chars to remove. how do you remove it? $ #'\n",
        "pattern2 = r'[^!?#$.]+'\n",
        "matched = re.findall(pattern2,test_phrase)\n",
        "matched2 = re.findall(r'[\\w]+',test_phrase)\n",
        "print(' '.join(matched2))\n",
        "print(' '.join(matched))"
      ],
      "execution_count": null,
      "outputs": [
        {
          "output_type": "stream",
          "text": [
            "this is 2 a string but it has 3 special chars to remove how do you remove it\n",
            "this is 2  a string  but it has 3 special chars to remove  how do you remove it    \n"
          ],
          "name": "stdout"
        }
      ]
    },
    {
      "cell_type": "code",
      "metadata": {
        "id": "mlqxOkGdg4cl",
        "colab_type": "code",
        "colab": {}
      },
      "source": [
        "def reverse_string(string):\n",
        "  result = \"\"\n",
        "  stack = []\n",
        "  for char in string:\n",
        "    stack.append(char)\n",
        "\n",
        "  while stack:\n",
        "    result = result+stack.pop()\n",
        "\n",
        "  return ''.join(result)"
      ],
      "execution_count": null,
      "outputs": []
    },
    {
      "cell_type": "code",
      "metadata": {
        "id": "gftzZanNkPqM",
        "colab_type": "code",
        "colab": {}
      },
      "source": [
        "import re\n",
        "def isPalindrome(s):\n",
        "\n",
        "  s = re.sub(r'[\\w_]','',s).lower()\n",
        "\n",
        "  left =0\n",
        "  right = len(s)-1\n",
        "  while left < right:\n",
        "    if s[left] != s[right]:\n",
        "      return False\n",
        "\n",
        "    left +=1\n",
        "    right -=1\n",
        "\n",
        "  return True\n",
        "\n"
      ],
      "execution_count": null,
      "outputs": []
    },
    {
      "cell_type": "code",
      "metadata": {
        "id": "Bf5JddvApxMh",
        "colab_type": "code",
        "colab": {
          "base_uri": "https://localhost:8080/",
          "height": 35
        },
        "outputId": "e9b79ccf-5e55-4d22-a85e-a265f1296c04"
      },
      "source": [
        "reverse_string(\"bolofinde\")"
      ],
      "execution_count": null,
      "outputs": [
        {
          "output_type": "execute_result",
          "data": {
            "application/vnd.google.colaboratory.intrinsic": {
              "type": "string"
            },
            "text/plain": [
              "'ednifolob'"
            ]
          },
          "metadata": {
            "tags": []
          },
          "execution_count": 4
        }
      ]
    },
    {
      "cell_type": "code",
      "metadata": {
        "id": "jDGewUNzqHBP",
        "colab_type": "code",
        "colab": {
          "base_uri": "https://localhost:8080/",
          "height": 164
        },
        "outputId": "4fd85278-d6f9-490c-9a46-19e4553d3e00"
      },
      "source": [
        "isPalindrome(\"abba\")"
      ],
      "execution_count": 1,
      "outputs": [
        {
          "output_type": "error",
          "ename": "NameError",
          "evalue": "ignored",
          "traceback": [
            "\u001b[0;31m---------------------------------------------------------------------------\u001b[0m",
            "\u001b[0;31mNameError\u001b[0m                                 Traceback (most recent call last)",
            "\u001b[0;32m<ipython-input-1-7c2eed4138d7>\u001b[0m in \u001b[0;36m<module>\u001b[0;34m()\u001b[0m\n\u001b[0;32m----> 1\u001b[0;31m \u001b[0misPalindrome\u001b[0m\u001b[0;34m(\u001b[0m\u001b[0;34m\"abba\"\u001b[0m\u001b[0;34m)\u001b[0m\u001b[0;34m\u001b[0m\u001b[0;34m\u001b[0m\u001b[0m\n\u001b[0m",
            "\u001b[0;31mNameError\u001b[0m: name 'isPalindrome' is not defined"
          ]
        }
      ]
    },
    {
      "cell_type": "code",
      "metadata": {
        "id": "poHKm_EvZUpK",
        "colab_type": "code",
        "colab": {}
      },
      "source": [
        ""
      ],
      "execution_count": null,
      "outputs": []
    }
  ]
}