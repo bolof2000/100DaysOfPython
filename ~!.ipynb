{
  "nbformat": 4,
  "nbformat_minor": 0,
  "metadata": {
    "colab": {
      "name": "~!",
      "provenance": [],
      "collapsed_sections": [],
      "include_colab_link": true
    },
    "kernelspec": {
      "name": "python3",
      "display_name": "Python 3"
    }
  },
  "cells": [
    {
      "cell_type": "markdown",
      "metadata": {
        "id": "view-in-github",
        "colab_type": "text"
      },
      "source": [
        "<a href=\"https://colab.research.google.com/github/bolof2000/100DaysOfPython/blob/master/~!.ipynb\" target=\"_parent\"><img src=\"https://colab.research.google.com/assets/colab-badge.svg\" alt=\"Open In Colab\"/></a>"
      ]
    },
    {
      "cell_type": "markdown",
      "metadata": {
        "id": "_Mzklm8RaVLl",
        "colab_type": "text"
      },
      "source": [
        "Break: Break out of the current closest enclosing loop\n",
        "Continue : Goes to the top of the closest enclosing loop"
      ]
    },
    {
      "cell_type": "code",
      "metadata": {
        "id": "g2qvYlonai0i",
        "colab_type": "code",
        "outputId": "9e5deea7-35a0-4d65-a1e5-62840f75b90b",
        "colab": {
          "base_uri": "https://localhost:8080/",
          "height": 35
        }
      },
      "source": [
        "mystring = \"bolofinde\"\n",
        "\n",
        "for c in mystring:\n",
        "  if c == \"o\":\n",
        "    break\n",
        "  print(c)"
      ],
      "execution_count": 0,
      "outputs": [
        {
          "output_type": "stream",
          "text": [
            "b\n"
          ],
          "name": "stdout"
        }
      ]
    },
    {
      "cell_type": "code",
      "metadata": {
        "id": "uNdFIzUzbOKk",
        "colab_type": "code",
        "outputId": "af58c224-5ceb-4737-9503-40968ec39def",
        "colab": {
          "base_uri": "https://localhost:8080/",
          "height": 156
        }
      },
      "source": [
        "mystring2 = \"bolofinde\"\n",
        "\n",
        "for k in mystring2:\n",
        "  if k == \"f\":\n",
        "    continue\n",
        "  print(k)"
      ],
      "execution_count": 0,
      "outputs": [
        {
          "output_type": "stream",
          "text": [
            "b\n",
            "o\n",
            "l\n",
            "o\n",
            "i\n",
            "n\n",
            "d\n",
            "e\n"
          ],
          "name": "stdout"
        }
      ]
    },
    {
      "cell_type": "code",
      "metadata": {
        "id": "bS_eDAamb3mZ",
        "colab_type": "code",
        "outputId": "567f3937-9fb3-4c92-a783-37627155b8e2",
        "colab": {
          "base_uri": "https://localhost:8080/",
          "height": 271
        }
      },
      "source": [
        "x = 0\n",
        "\n",
        "while x < 5:\n",
        "  \n",
        "  if x ==2:\n",
        "    continue\n",
        "    \n",
        "  print(x)\n",
        "  \n",
        "  x +=1\n",
        "  \n",
        " "
      ],
      "execution_count": 0,
      "outputs": [
        {
          "output_type": "stream",
          "text": [
            "0\n",
            "1\n"
          ],
          "name": "stdout"
        },
        {
          "output_type": "error",
          "ename": "KeyboardInterrupt",
          "evalue": "ignored",
          "traceback": [
            "\u001b[0;31m---------------------------------------------------------------------------\u001b[0m",
            "\u001b[0;31mKeyboardInterrupt\u001b[0m                         Traceback (most recent call last)",
            "\u001b[0;32m<ipython-input-20-6d5d6b55ae21>\u001b[0m in \u001b[0;36m<module>\u001b[0;34m()\u001b[0m\n\u001b[1;32m      3\u001b[0m \u001b[0;32mwhile\u001b[0m \u001b[0mx\u001b[0m \u001b[0;34m<\u001b[0m \u001b[0;36m5\u001b[0m\u001b[0;34m:\u001b[0m\u001b[0;34m\u001b[0m\u001b[0;34m\u001b[0m\u001b[0m\n\u001b[1;32m      4\u001b[0m \u001b[0;34m\u001b[0m\u001b[0m\n\u001b[0;32m----> 5\u001b[0;31m   \u001b[0;32mif\u001b[0m \u001b[0mx\u001b[0m \u001b[0;34m==\u001b[0m\u001b[0;36m2\u001b[0m\u001b[0;34m:\u001b[0m\u001b[0;34m\u001b[0m\u001b[0;34m\u001b[0m\u001b[0m\n\u001b[0m\u001b[1;32m      6\u001b[0m     \u001b[0;32mcontinue\u001b[0m\u001b[0;34m\u001b[0m\u001b[0;34m\u001b[0m\u001b[0m\n\u001b[1;32m      7\u001b[0m \u001b[0;34m\u001b[0m\u001b[0m\n",
            "\u001b[0;31mKeyboardInterrupt\u001b[0m: "
          ]
        }
      ]
    },
    {
      "cell_type": "code",
      "metadata": {
        "id": "THGyOe4tiz5R",
        "colab_type": "code",
        "colab": {}
      },
      "source": [
        "def summation(*args):\n",
        "  return sum(args)"
      ],
      "execution_count": 0,
      "outputs": []
    },
    {
      "cell_type": "code",
      "metadata": {
        "id": "MP7GnfI1l0hp",
        "colab_type": "code",
        "colab": {}
      },
      "source": [
        ""
      ],
      "execution_count": 0,
      "outputs": []
    },
    {
      "cell_type": "code",
      "metadata": {
        "id": "YFwin6mkl0k8",
        "colab_type": "code",
        "outputId": "ef2d5577-fb5d-4ddb-d8c0-a9d3353b7217",
        "colab": {
          "base_uri": "https://localhost:8080/",
          "height": 35
        }
      },
      "source": [
        "summation(40,50,60)"
      ],
      "execution_count": 0,
      "outputs": [
        {
          "output_type": "execute_result",
          "data": {
            "text/plain": [
              "150"
            ]
          },
          "metadata": {
            "tags": []
          },
          "execution_count": 22
        }
      ]
    },
    {
      "cell_type": "code",
      "metadata": {
        "id": "UIUiqra5l9WE",
        "colab_type": "code",
        "outputId": "da6e8aca-1da6-4f70-d049-3ce522343b49",
        "colab": {
          "base_uri": "https://localhost:8080/",
          "height": 35
        }
      },
      "source": [
        "summation(10,20,40,60)"
      ],
      "execution_count": 0,
      "outputs": [
        {
          "output_type": "execute_result",
          "data": {
            "text/plain": [
              "130"
            ]
          },
          "metadata": {
            "tags": []
          },
          "execution_count": 23
        }
      ]
    },
    {
      "cell_type": "markdown",
      "metadata": {
        "id": "K8ub9qkClkF2",
        "colab_type": "text"
      },
      "source": [
        "*args :  allows functions to take as many as possible arguments  . abitrary number of arguments \n"
      ]
    },
    {
      "cell_type": "markdown",
      "metadata": {
        "id": "H2vHlSgDm-R5",
        "colab_type": "text"
      },
      "source": [
        "Lambda expressions, maps and filter functions "
      ]
    },
    {
      "cell_type": "code",
      "metadata": {
        "id": "R14H7-NcnFzy",
        "colab_type": "code",
        "colab": {}
      },
      "source": [
        "def square(num):\n",
        "  return num**2"
      ],
      "execution_count": 0,
      "outputs": []
    },
    {
      "cell_type": "code",
      "metadata": {
        "id": "YGcSfnC7oS--",
        "colab_type": "code",
        "outputId": "d45fb9db-db93-4c20-b44d-b63f1f9293f4",
        "colab": {
          "base_uri": "https://localhost:8080/",
          "height": 35
        }
      },
      "source": [
        "# to apply the sq function to every item of a list, instead of using for loop, we can use map\n",
        "\n",
        "my_list = [1,2,3,4]\n",
        "\n",
        "list(map(square,my_list))"
      ],
      "execution_count": 0,
      "outputs": [
        {
          "output_type": "execute_result",
          "data": {
            "text/plain": [
              "[1, 4, 9, 16]"
            ]
          },
          "metadata": {
            "tags": []
          },
          "execution_count": 26
        }
      ]
    },
    {
      "cell_type": "code",
      "metadata": {
        "id": "JSFq8A7WOmEp",
        "colab_type": "code",
        "colab": {}
      },
      "source": [
        "class Shape:\n",
        "  \n",
        "  area = 0\n",
        "  \n",
        "  def __init__(self,height,radius,bren=1, leng=1):\n",
        "    \n",
        "    self.height = height\n",
        "    self.radius = radius\n",
        "    self.bren = bren\n",
        "    self.leng = leng\n",
        "    \n",
        "    \n",
        "  def area_cycle(self):\n",
        "    \n",
        "    area = self.radius*self.radius*self.height\n",
        "    \n",
        "    return area\n",
        "  \n",
        "  def area_rectangle(self):\n",
        "    \n",
        "    area = self.bren*self.leng\n",
        "    \n",
        "    return area\n",
        "  \n",
        "  def area_cylinda(self):\n",
        "    \n",
        "    area = self.height*self.radius*3.124\n",
        "    \n",
        "    return area\n",
        "   "
      ],
      "execution_count": 0,
      "outputs": []
    },
    {
      "cell_type": "code",
      "metadata": {
        "id": "FWsyAP55PYUd",
        "colab_type": "code",
        "colab": {}
      },
      "source": [
        "cycle = Shape(10,20)"
      ],
      "execution_count": 0,
      "outputs": []
    },
    {
      "cell_type": "code",
      "metadata": {
        "id": "_jU8OTKYPxCI",
        "colab_type": "code",
        "outputId": "0be8c95e-01e6-4ef1-8572-63c9b6db7953",
        "colab": {
          "base_uri": "https://localhost:8080/",
          "height": 35
        }
      },
      "source": [
        "cycle.area_cycle()"
      ],
      "execution_count": 0,
      "outputs": [
        {
          "output_type": "execute_result",
          "data": {
            "text/plain": [
              "4000"
            ]
          },
          "metadata": {
            "tags": []
          },
          "execution_count": 34
        }
      ]
    },
    {
      "cell_type": "code",
      "metadata": {
        "id": "WmU0UuqCQ5Gd",
        "colab_type": "code",
        "outputId": "f75ff1d4-da2b-4137-cf53-d8433a65a6d3",
        "colab": {
          "base_uri": "https://localhost:8080/",
          "height": 35
        }
      },
      "source": [
        "cycle.area_cylinda()"
      ],
      "execution_count": 0,
      "outputs": [
        {
          "output_type": "execute_result",
          "data": {
            "text/plain": [
              "624.8000000000001"
            ]
          },
          "metadata": {
            "tags": []
          },
          "execution_count": 35
        }
      ]
    },
    {
      "cell_type": "code",
      "metadata": {
        "id": "gMHuIOIhR271",
        "colab_type": "code",
        "outputId": "f89e8812-06d3-49ea-dc04-b46c4200ac21",
        "colab": {
          "base_uri": "https://localhost:8080/",
          "height": 35
        }
      },
      "source": [
        "cycle.area_rectangle()"
      ],
      "execution_count": 0,
      "outputs": [
        {
          "output_type": "execute_result",
          "data": {
            "text/plain": [
              "1"
            ]
          },
          "metadata": {
            "tags": []
          },
          "execution_count": 36
        }
      ]
    },
    {
      "cell_type": "code",
      "metadata": {
        "id": "6KxYsef8cs6q",
        "colab_type": "code",
        "colab": {}
      },
      "source": [
        "import unittest000"
      ],
      "execution_count": 0,
      "outputs": []
    },
    {
      "cell_type": "code",
      "metadata": {
        "id": "RCNw7F1Zcwg9",
        "colab_type": "code",
        "outputId": "0eb5d74f-7b4b-4936-cee3-73b9478bb297",
        "colab": {
          "base_uri": "https://localhost:8080/",
          "height": 132
        }
      },
      "source": [
        "area_cal = Shape(10,20)\n",
        "class TestArea(unittest.TestCase):\n",
        "  \n",
        "  def test_area_cycle(self):\n",
        "    \n",
        "    result area_cal.area_cycle()\n",
        "    \n",
        "    self.assertEqual(result,400)\n",
        "    "
      ],
      "execution_count": 0,
      "outputs": [
        {
          "output_type": "error",
          "ename": "SyntaxError",
          "evalue": "ignored",
          "traceback": [
            "\u001b[0;36m  File \u001b[0;32m\"<ipython-input-2-877e27206e5d>\"\u001b[0;36m, line \u001b[0;32m6\u001b[0m\n\u001b[0;31m    result area_cal.area_cycle()\u001b[0m\n\u001b[0m                  ^\u001b[0m\n\u001b[0;31mSyntaxError\u001b[0m\u001b[0;31m:\u001b[0m invalid syntax\n"
          ]
        }
      ]
    },
    {
      "cell_type": "code",
      "metadata": {
        "id": "m8z21YOwsSEE",
        "colab_type": "code",
        "colab": {}
      },
      "source": [
        "from collections import Counter"
      ],
      "execution_count": 0,
      "outputs": []
    },
    {
      "cell_type": "code",
      "metadata": {
        "id": "4AubETRssSLS",
        "colab_type": "code",
        "colab": {}
      },
      "source": [
        "s = ' bolof baba bolof segun segun victor victor adriel adriel rere rere dammy dammy dammy dammy dammy'"
      ],
      "execution_count": 0,
      "outputs": []
    },
    {
      "cell_type": "code",
      "metadata": {
        "id": "v1PxuWHHtvQ6",
        "colab_type": "code",
        "outputId": "64d57ae7-dd4e-4722-904e-9a4b7b9201ae",
        "colab": {
          "base_uri": "https://localhost:8080/",
          "height": 55
        }
      },
      "source": [
        "words = s.split()\n",
        "print(words)"
      ],
      "execution_count": 0,
      "outputs": [
        {
          "output_type": "stream",
          "text": [
            "['bolof', 'baba', 'bolof', 'segun', 'segun', 'victor', 'victor', 'adriel', 'adriel', 'rere', 'rere', 'dammy', 'dammy', 'dammy', 'dammy', 'dammy']\n"
          ],
          "name": "stdout"
        }
      ]
    },
    {
      "cell_type": "code",
      "metadata": {
        "id": "DzboVckWt1XM",
        "colab_type": "code",
        "outputId": "be6ad079-f4fd-49ce-c546-824eef74ec19",
        "colab": {
          "base_uri": "https://localhost:8080/",
          "height": 139
        }
      },
      "source": [
        "Counter(words)"
      ],
      "execution_count": 0,
      "outputs": [
        {
          "output_type": "execute_result",
          "data": {
            "text/plain": [
              "Counter({'adriel': 2,\n",
              "         'baba': 1,\n",
              "         'bolof': 2,\n",
              "         'dammy': 5,\n",
              "         'rere': 2,\n",
              "         'segun': 2,\n",
              "         'victor': 2})"
            ]
          },
          "metadata": {
            "tags": []
          },
          "execution_count": 7
        }
      ]
    },
    {
      "cell_type": "code",
      "metadata": {
        "id": "wr1O1P7ixanr",
        "colab_type": "code",
        "colab": {}
      },
      "source": [
        "import pdb"
      ],
      "execution_count": 0,
      "outputs": []
    },
    {
      "cell_type": "code",
      "metadata": {
        "id": "w8Z3Y9I6v0iv",
        "colab_type": "code",
        "colab": {}
      },
      "source": [
        "from collections import defaultdict\n",
        "def twoSum(arr,target):\n",
        "  \n",
        "  dic = {}\n",
        "  \n",
        "  result = []\n",
        "  \n",
        "  for i in range(0,len(arr)): \n",
        "    temp = target-arr[i]\n",
        "    #pdb.set_trace()\n",
        "    if dic.get(temp) != 0:\n",
        "      print(dic.get(temp))\n",
        "      \n",
        "      result.append(dic.get(temp))\n",
        "      result.append(i)\n",
        "  #pdb.set_trace()   \n",
        "  dic[arr[i]] = i\n",
        "  \n",
        "  return result"
      ],
      "execution_count": 0,
      "outputs": []
    },
    {
      "cell_type": "code",
      "metadata": {
        "id": "85S0lAia1qGZ",
        "colab_type": "code",
        "colab": {}
      },
      "source": [
        ""
      ],
      "execution_count": 0,
      "outputs": []
    },
    {
      "cell_type": "code",
      "metadata": {
        "id": "tYhzzWsBxgR8",
        "colab_type": "code",
        "outputId": "8bd35d91-b02f-468c-82d2-ce7d5073b9c9",
        "colab": {
          "base_uri": "https://localhost:8080/",
          "height": 122
        }
      },
      "source": [
        "\n",
        "twoSum([4,5,8,9,10],17)"
      ],
      "execution_count": 0,
      "outputs": [
        {
          "output_type": "stream",
          "text": [
            "None\n",
            "None\n",
            "None\n",
            "None\n",
            "None\n"
          ],
          "name": "stdout"
        },
        {
          "output_type": "execute_result",
          "data": {
            "text/plain": [
              "[None, 0, None, 1, None, 2, None, 3, None, 4]"
            ]
          },
          "metadata": {
            "tags": []
          },
          "execution_count": 13
        }
      ]
    },
    {
      "cell_type": "code",
      "metadata": {
        "id": "2bIsbp3X1rvA",
        "colab_type": "code",
        "colab": {}
      },
      "source": [
        "def twosum2(arr,k):\n",
        "  \n",
        "  dic = {}\n",
        "  for i in range(0,len(arr)):\n",
        "    num = arr[i]\n",
        "    temp = k-num\n",
        "    if dic[num] in dic:\n",
        "      dic[num]"
      ],
      "execution_count": 0,
      "outputs": []
    },
    {
      "cell_type": "code",
      "metadata": {
        "id": "ssa6PjC73JKd",
        "colab_type": "code",
        "colab": {}
      },
      "source": [
        "class SolutionTwoSum:\n",
        "  def twoSumSol(self,arr,target):\n",
        "    d = {}\n",
        "    for i ,num in enumerate(arr):\n",
        "      #print(i,num)\n",
        "      temp = target-num\n",
        "      if temp in d:\n",
        "        result.append(d[temp])\n",
        "        result.append(i)\n",
        "      \n",
        "      d[num] = i\n",
        "      print(d)\n",
        "    return result\n",
        "      "
      ],
      "execution_count": 0,
      "outputs": []
    },
    {
      "cell_type": "code",
      "metadata": {
        "id": "3L7ySNrP4c6Q",
        "colab_type": "code",
        "colab": {}
      },
      "source": [
        "sol = SolutionTwoSum()"
      ],
      "execution_count": 0,
      "outputs": []
    },
    {
      "cell_type": "code",
      "metadata": {
        "id": "PYCOSGEf4fSF",
        "colab_type": "code",
        "outputId": "15d3a181-9243-4ac4-cb84-e2d295a20077",
        "colab": {
          "base_uri": "https://localhost:8080/",
          "height": 122
        }
      },
      "source": [
        "sol.twoSumSvol([4,5,8,9,10],17)"
      ],
      "execution_count": 0,
      "outputs": [
        {
          "output_type": "stream",
          "text": [
            "{4: 0}\n",
            "{4: 0, 5: 1}\n",
            "{4: 0, 5: 1, 8: 2}\n",
            "{4: 0, 5: 1, 8: 2, 9: 3}\n",
            "{4: 0, 5: 1, 8: 2, 9: 3, 10: 4}\n"
          ],
          "name": "stdout"
        },
        {
          "output_type": "execute_result",
          "data": {
            "text/plain": [
              "[2, 3]"
            ]
          },
          "metadata": {
            "tags": []
          },
          "execution_count": 40
        }
      ]
    },
    {
      "cell_type": "code",
      "metadata": {
        "id": "vY726N8SyOlS",
        "colab_type": "code",
        "colab": {}
      },
      "source": [
        "def lengthOfLongestSubstring(s):\n",
        "  \n",
        "  d = {}\n",
        "  \n",
        "  windowStart = 0\n",
        "  result = 0\n",
        "  \n",
        "  for i,c in enumerate(s):\n",
        "    if c in d:\n",
        "      windowStart = max(windowStart,d[c]+1)\n",
        "    d[c] =i\n",
        "    \n",
        "    result = max(result,i-windowStart+1)"
      ],
      "execution_count": 0,
      "outputs": []
    },
    {
      "cell_type": "code",
      "metadata": {
        "id": "uDWPxniz-VHl",
        "colab_type": "code",
        "colab": {}
      },
      "source": [
        "from collections import defaultdict\n",
        "\n",
        "class Solution:\n",
        "    def firstUniqChar(self, s: str) -> int:\n",
        "        mydict = defaultdict(int)\n",
        "        for char in s:\n",
        "            mydict[char] += 1\n",
        "        for key in mydict.keys():\n",
        "            if mydict[key] == 1:\n",
        "                return s.index(key)\n",
        "            \n",
        "        return -1"
      ],
      "execution_count": 0,
      "outputs": []
    },
    {
      "cell_type": "code",
      "metadata": {
        "id": "hjSDOT_uC-Gv",
        "colab_type": "code",
        "colab": {}
      },
      "source": [
        "def firstUniqChar2(string):\n",
        "  \n",
        "  mydic = {}\n",
        "  for i,char in enumerate(string):\n",
        "    if char in mydic:\n",
        "      mydic[char] =1\n",
        "    else:\n",
        "      mydic[char] +=1\n",
        "  for k in mydic:\n",
        "    if mydic[k] ==1:\n",
        "      return i\n",
        "    \n",
        "  return -1"
      ],
      "execution_count": 0,
      "outputs": []
    },
    {
      "cell_type": "code",
      "metadata": {
        "id": "5Kgm3MfNGkcG",
        "colab_type": "code",
        "colab": {}
      },
      "source": [
        ""
      ],
      "execution_count": 0,
      "outputs": []
    },
    {
      "cell_type": "code",
      "metadata": {
        "id": "PJiNSaeBFJ_M",
        "colab_type": "code",
        "outputId": "cf0bacdd-299c-4d3a-d515-529b546d595c",
        "colab": {
          "base_uri": "https://localhost:8080/",
          "height": 288
        }
      },
      "source": [
        "firstUniqChar2(\"bolofinde\")"
      ],
      "execution_count": 0,
      "outputs": [
        {
          "output_type": "error",
          "ename": "KeyError",
          "evalue": "ignored",
          "traceback": [
            "\u001b[0;31m---------------------------------------------------------------------------\u001b[0m",
            "\u001b[0;31mKeyError\u001b[0m                                  Traceback (most recent call last)",
            "\u001b[0;32m<ipython-input-7-4cdec9c1d8cd>\u001b[0m in \u001b[0;36m<module>\u001b[0;34m()\u001b[0m\n\u001b[0;32m----> 1\u001b[0;31m \u001b[0mfirstUniqChar2\u001b[0m\u001b[0;34m(\u001b[0m\u001b[0;34m\"bolofinde\"\u001b[0m\u001b[0;34m)\u001b[0m\u001b[0;34m\u001b[0m\u001b[0;34m\u001b[0m\u001b[0m\n\u001b[0m",
            "\u001b[0;32m<ipython-input-6-781666ce1677>\u001b[0m in \u001b[0;36mfirstUniqChar2\u001b[0;34m(string)\u001b[0m\n\u001b[1;32m      6\u001b[0m       \u001b[0mmydic\u001b[0m\u001b[0;34m[\u001b[0m\u001b[0mchar\u001b[0m\u001b[0;34m]\u001b[0m \u001b[0;34m=\u001b[0m\u001b[0;36m1\u001b[0m\u001b[0;34m\u001b[0m\u001b[0;34m\u001b[0m\u001b[0m\n\u001b[1;32m      7\u001b[0m     \u001b[0;32melse\u001b[0m\u001b[0;34m:\u001b[0m\u001b[0;34m\u001b[0m\u001b[0;34m\u001b[0m\u001b[0m\n\u001b[0;32m----> 8\u001b[0;31m       \u001b[0mmydic\u001b[0m\u001b[0;34m[\u001b[0m\u001b[0mchar\u001b[0m\u001b[0;34m]\u001b[0m \u001b[0;34m+=\u001b[0m\u001b[0;36m1\u001b[0m\u001b[0;34m\u001b[0m\u001b[0;34m\u001b[0m\u001b[0m\n\u001b[0m\u001b[1;32m      9\u001b[0m   \u001b[0;32mfor\u001b[0m \u001b[0mk\u001b[0m \u001b[0;32min\u001b[0m \u001b[0mmydic\u001b[0m\u001b[0;34m:\u001b[0m\u001b[0;34m\u001b[0m\u001b[0;34m\u001b[0m\u001b[0m\n\u001b[1;32m     10\u001b[0m     \u001b[0;32mif\u001b[0m \u001b[0mmydic\u001b[0m\u001b[0;34m[\u001b[0m\u001b[0mk\u001b[0m\u001b[0;34m]\u001b[0m \u001b[0;34m==\u001b[0m\u001b[0;36m1\u001b[0m\u001b[0;34m:\u001b[0m\u001b[0;34m\u001b[0m\u001b[0;34m\u001b[0m\u001b[0m\n",
            "\u001b[0;31mKeyError\u001b[0m: 'b'"
          ]
        }
      ]
    },
    {
      "cell_type": "code",
      "metadata": {
        "id": "zpR7PZsBGmCc",
        "colab_type": "code",
        "colab": {}
      },
      "source": [
        "def firstUniqChar3(string):\n",
        "  \n",
        "  mydic = {}\n",
        "  for i in range(0,len(string)):\n",
        "    char = string[i]\n",
        "    \n",
        "    if char in mydic:\n",
        "      mydic[char] +=1\n",
        "    else:\n",
        "      mydic[char] = 1\n",
        "    \n",
        "    if mydic[char] == 1:\n",
        "      \n",
        "      return i\n",
        "  return -1\n",
        "      \n",
        "  "
      ],
      "execution_count": 0,
      "outputs": []
    },
    {
      "cell_type": "code",
      "metadata": {
        "id": "tCQFRULeHFgP",
        "colab_type": "code",
        "outputId": "72d3e3b3-1c1b-4c7a-e31b-ee4a368feec3",
        "colab": {
          "base_uri": "https://localhost:8080/",
          "height": 35
        }
      },
      "source": [
        "firstUniqChar3(\"oob\")"
      ],
      "execution_count": 0,
      "outputs": [
        {
          "output_type": "execute_result",
          "data": {
            "text/plain": [
              "0"
            ]
          },
          "metadata": {
            "tags": []
          },
          "execution_count": 16
        }
      ]
    },
    {
      "cell_type": "code",
      "metadata": {
        "id": "iiTv_1eaJa0o",
        "colab_type": "code",
        "colab": {}
      },
      "source": [
        "def firstUni(string):\n",
        "  \n",
        "  mydic = {}\n",
        "  \n",
        "  for char in string:\n",
        "    mydic[char] +=1\n",
        "  for key in mydic.keys():\n",
        "    print(key)\n",
        "    if mydic[key] ==1:\n",
        "      return string.index(key)\n",
        "  return -1"
      ],
      "execution_count": 0,
      "outputs": []
    },
    {
      "cell_type": "code",
      "metadata": {
        "id": "_OCpYEyrJ3wE",
        "colab_type": "code",
        "outputId": "cc4597cc-0283-4930-f118-be06034afeff",
        "colab": {
          "base_uri": "https://localhost:8080/",
          "height": 288
        }
      },
      "source": [
        "firstUni(\"bolofinde\")"
      ],
      "execution_count": 0,
      "outputs": [
        {
          "output_type": "error",
          "ename": "KeyError",
          "evalue": "ignored",
          "traceback": [
            "\u001b[0;31m---------------------------------------------------------------------------\u001b[0m",
            "\u001b[0;31mKeyError\u001b[0m                                  Traceback (most recent call last)",
            "\u001b[0;32m<ipython-input-18-d88fe6a88072>\u001b[0m in \u001b[0;36m<module>\u001b[0;34m()\u001b[0m\n\u001b[0;32m----> 1\u001b[0;31m \u001b[0mfirstUni\u001b[0m\u001b[0;34m(\u001b[0m\u001b[0;34m\"bolofinde\"\u001b[0m\u001b[0;34m)\u001b[0m\u001b[0;34m\u001b[0m\u001b[0;34m\u001b[0m\u001b[0m\n\u001b[0m",
            "\u001b[0;32m<ipython-input-17-01b47508162a>\u001b[0m in \u001b[0;36mfirstUni\u001b[0;34m(string)\u001b[0m\n\u001b[1;32m      4\u001b[0m \u001b[0;34m\u001b[0m\u001b[0m\n\u001b[1;32m      5\u001b[0m   \u001b[0;32mfor\u001b[0m \u001b[0mchar\u001b[0m \u001b[0;32min\u001b[0m \u001b[0mstring\u001b[0m\u001b[0;34m:\u001b[0m\u001b[0;34m\u001b[0m\u001b[0;34m\u001b[0m\u001b[0m\n\u001b[0;32m----> 6\u001b[0;31m     \u001b[0mmydic\u001b[0m\u001b[0;34m[\u001b[0m\u001b[0mchar\u001b[0m\u001b[0;34m]\u001b[0m \u001b[0;34m+=\u001b[0m\u001b[0;36m1\u001b[0m\u001b[0;34m\u001b[0m\u001b[0;34m\u001b[0m\u001b[0m\n\u001b[0m\u001b[1;32m      7\u001b[0m   \u001b[0;32mfor\u001b[0m \u001b[0mkey\u001b[0m \u001b[0;32min\u001b[0m \u001b[0mmydic\u001b[0m\u001b[0;34m.\u001b[0m\u001b[0mkeys\u001b[0m\u001b[0;34m(\u001b[0m\u001b[0;34m)\u001b[0m\u001b[0;34m:\u001b[0m\u001b[0;34m\u001b[0m\u001b[0;34m\u001b[0m\u001b[0m\n\u001b[1;32m      8\u001b[0m     \u001b[0mprint\u001b[0m\u001b[0;34m(\u001b[0m\u001b[0mkey\u001b[0m\u001b[0;34m)\u001b[0m\u001b[0;34m\u001b[0m\u001b[0;34m\u001b[0m\u001b[0m\n",
            "\u001b[0;31mKeyError\u001b[0m: 'b'"
          ]
        }
      ]
    },
    {
      "cell_type": "code",
      "metadata": {
        "id": "YwfobZCJM2On",
        "colab_type": "code",
        "colab": {}
      },
      "source": [
        "from collections import Counter\n"
      ],
      "execution_count": 0,
      "outputs": []
    },
    {
      "cell_type": "code",
      "metadata": {
        "id": "kqby1AqaO_cW",
        "colab_type": "code",
        "colab": {}
      },
      "source": [
        "class Solution:\n",
        "  \n",
        "  def first(self,s):\n",
        "    \n",
        "    dic = Counter(s)\n",
        "    print(dic)\n",
        "    \n",
        "    s_list = list(s)\n",
        "    print(s_list)\n",
        "    \n",
        "    for i in range(0,len(s_list)):\n",
        "      char = s_list[i]\n",
        "      \n",
        "      if dic[char] ==1:\n",
        "        return i\n",
        "    return -1"
      ],
      "execution_count": 0,
      "outputs": []
    },
    {
      "cell_type": "code",
      "metadata": {
        "id": "UbBQ6vuhPxrk",
        "colab_type": "code",
        "colab": {}
      },
      "source": [
        "def first2(s):\n",
        "  \n",
        "  dic = {}\n",
        "  \n",
        "  for char in s:\n",
        "    if char in dic:\n",
        "      dic[char] +=1\n",
        "    else:\n",
        "      dic[char] =1\n",
        "  arr = list(s)\n",
        "  print(arr)\n",
        "  \n",
        "  for i in range(0,len(arr)):\n",
        "    \n",
        "    char = arr[i]\n",
        "    \n",
        "    if dic[char] ==1:\n",
        "      return i\n",
        "  return -1"
      ],
      "execution_count": 0,
      "outputs": []
    },
    {
      "cell_type": "code",
      "metadata": {
        "id": "C3d6DaJaQRvM",
        "colab_type": "code",
        "outputId": "90c9a5dd-8789-4aa7-f57f-997994dd5f79",
        "colab": {
          "base_uri": "https://localhost:8080/",
          "height": 52
        }
      },
      "source": [
        "first2(\"bolofindeeeeeeeeb\")"
      ],
      "execution_count": 0,
      "outputs": [
        {
          "output_type": "stream",
          "text": [
            "['b', 'o', 'l', 'o', 'f', 'i', 'n', 'd', 'e', 'e', 'e', 'e', 'e', 'e', 'e', 'e', 'b']\n"
          ],
          "name": "stdout"
        },
        {
          "output_type": "execute_result",
          "data": {
            "text/plain": [
              "2"
            ]
          },
          "metadata": {
            "tags": []
          },
          "execution_count": 47
        }
      ]
    },
    {
      "cell_type": "code",
      "metadata": {
        "id": "Ve5k7x-rNUr7",
        "colab_type": "code",
        "colab": {}
      },
      "source": [
        "sol = Solution()"
      ],
      "execution_count": 0,
      "outputs": []
    },
    {
      "cell_type": "code",
      "metadata": {
        "id": "F3Ba2OwZNcpw",
        "colab_type": "code",
        "outputId": "5780eeaf-0cb9-44f4-9beb-beb56fb0a6c6",
        "colab": {
          "base_uri": "https://localhost:8080/",
          "height": 70
        }
      },
      "source": [
        "sol.first(\"bolofindeeebbb\")"
      ],
      "execution_count": 0,
      "outputs": [
        {
          "output_type": "stream",
          "text": [
            "Counter({'b': 4, 'e': 3, 'o': 2, 'l': 1, 'f': 1, 'i': 1, 'n': 1, 'd': 1})\n",
            "['b', 'o', 'l', 'o', 'f', 'i', 'n', 'd', 'e', 'e', 'e', 'b', 'b', 'b']\n"
          ],
          "name": "stdout"
        },
        {
          "output_type": "execute_result",
          "data": {
            "text/plain": [
              "2"
            ]
          },
          "metadata": {
            "tags": []
          },
          "execution_count": 42
        }
      ]
    },
    {
      "cell_type": "code",
      "metadata": {
        "id": "RfxyCi0vR3Pi",
        "colab_type": "code",
        "outputId": "13090a00-7edd-4df6-cb07-5833a1686c0d",
        "colab": {
          "base_uri": "https://localhost:8080/",
          "height": 104
        }
      },
      "source": [
        "string = \"bolofinde\"\n",
        "print(Counter(string))\n",
        "print(list(string))\n",
        "\n",
        "print(sorted(list(string)))\n",
        "dic = Counter(string)\n",
        "print(list(dic))\n",
        "print(set(dic))"
      ],
      "execution_count": 0,
      "outputs": [
        {
          "output_type": "stream",
          "text": [
            "Counter({'o': 2, 'b': 1, 'l': 1, 'f': 1, 'i': 1, 'n': 1, 'd': 1, 'e': 1})\n",
            "['b', 'o', 'l', 'o', 'f', 'i', 'n', 'd', 'e']\n",
            "['b', 'd', 'e', 'f', 'i', 'l', 'n', 'o', 'o']\n",
            "['b', 'o', 'l', 'f', 'i', 'n', 'd', 'e']\n",
            "{'i', 'o', 'f', 'b', 'n', 'd', 'e', 'l'}\n"
          ],
          "name": "stdout"
        }
      ]
    },
    {
      "cell_type": "code",
      "metadata": {
        "id": "G8XLlGkgXSt7",
        "colab_type": "code",
        "colab": {}
      },
      "source": [
        "class Solution1:\n",
        "  \n",
        "  def pivotIndex(self,nums):\n",
        "    \n",
        "    left,right = 0\n",
        "    \n",
        "    for i, num in enumerate(nums):\n",
        "      right -=num\n",
        "      left +=num\n",
        "      print(right)\n",
        "      print(left)\n",
        "      \n",
        "      if left == right:\n",
        "        return i\n",
        "      \n",
        "    return -1\n",
        "    \n",
        "    "
      ],
      "execution_count": 0,
      "outputs": []
    },
    {
      "cell_type": "code",
      "metadata": {
        "id": "vRHilFVLY7gP",
        "colab_type": "code",
        "colab": {}
      },
      "source": [
        "sol = Solution1()"
      ],
      "execution_count": 0,
      "outputs": []
    },
    {
      "cell_type": "code",
      "metadata": {
        "id": "tkuTFWdcZX9A",
        "colab_type": "code",
        "outputId": "e19b8fe2-94ba-4a98-b687-32b8ce57cce9",
        "colab": {
          "base_uri": "https://localhost:8080/",
          "height": 288
        }
      },
      "source": [
        "sol.pivotIndex([1,7,3,6,5,6])"
      ],
      "execution_count": 0,
      "outputs": [
        {
          "output_type": "error",
          "ename": "TypeError",
          "evalue": "ignored",
          "traceback": [
            "\u001b[0;31m---------------------------------------------------------------------------\u001b[0m",
            "\u001b[0;31mTypeError\u001b[0m                                 Traceback (most recent call last)",
            "\u001b[0;32m<ipython-input-58-f09ef91e0eee>\u001b[0m in \u001b[0;36m<module>\u001b[0;34m()\u001b[0m\n\u001b[0;32m----> 1\u001b[0;31m \u001b[0msol\u001b[0m\u001b[0;34m.\u001b[0m\u001b[0mpivotIndex\u001b[0m\u001b[0;34m(\u001b[0m\u001b[0;34m[\u001b[0m\u001b[0;36m1\u001b[0m\u001b[0;34m,\u001b[0m\u001b[0;36m7\u001b[0m\u001b[0;34m,\u001b[0m\u001b[0;36m3\u001b[0m\u001b[0;34m,\u001b[0m\u001b[0;36m6\u001b[0m\u001b[0;34m,\u001b[0m\u001b[0;36m5\u001b[0m\u001b[0;34m,\u001b[0m\u001b[0;36m6\u001b[0m\u001b[0;34m]\u001b[0m\u001b[0;34m)\u001b[0m\u001b[0;34m\u001b[0m\u001b[0;34m\u001b[0m\u001b[0m\n\u001b[0m",
            "\u001b[0;32m<ipython-input-56-abfd956ea092>\u001b[0m in \u001b[0;36mpivotIndex\u001b[0;34m(self, nums)\u001b[0m\n\u001b[1;32m      3\u001b[0m   \u001b[0;32mdef\u001b[0m \u001b[0mpivotIndex\u001b[0m\u001b[0;34m(\u001b[0m\u001b[0mself\u001b[0m\u001b[0;34m,\u001b[0m\u001b[0mnums\u001b[0m\u001b[0;34m)\u001b[0m\u001b[0;34m:\u001b[0m\u001b[0;34m\u001b[0m\u001b[0;34m\u001b[0m\u001b[0m\n\u001b[1;32m      4\u001b[0m \u001b[0;34m\u001b[0m\u001b[0m\n\u001b[0;32m----> 5\u001b[0;31m     \u001b[0mleft\u001b[0m\u001b[0;34m,\u001b[0m\u001b[0mright\u001b[0m \u001b[0;34m=\u001b[0m \u001b[0;36m0\u001b[0m\u001b[0;34m\u001b[0m\u001b[0;34m\u001b[0m\u001b[0m\n\u001b[0m\u001b[1;32m      6\u001b[0m \u001b[0;34m\u001b[0m\u001b[0m\n\u001b[1;32m      7\u001b[0m     \u001b[0;32mfor\u001b[0m \u001b[0mi\u001b[0m\u001b[0;34m,\u001b[0m \u001b[0mnum\u001b[0m \u001b[0;32min\u001b[0m \u001b[0menumerate\u001b[0m\u001b[0;34m(\u001b[0m\u001b[0mnums\u001b[0m\u001b[0;34m)\u001b[0m\u001b[0;34m:\u001b[0m\u001b[0;34m\u001b[0m\u001b[0;34m\u001b[0m\u001b[0m\n",
            "\u001b[0;31mTypeError\u001b[0m: 'int' object is not iterable"
          ]
        }
      ]
    },
    {
      "cell_type": "code",
      "metadata": {
        "id": "V_IyrN7fZo4X",
        "colab_type": "code",
        "colab": {}
      },
      "source": [
        "class Solution2(object):\n",
        "    def pivotIndex(self, nums):\n",
        "        # Time: O(n)\n",
        "        # Space: O(1)\n",
        "        left=0\n",
        "        right = sum(nums)\n",
        "        for index, num in enumerate(nums):\n",
        "            #print(num)\n",
        "            right -= num\n",
        "            left += num\n",
        "           # print(right)\n",
        "            if left == right:\n",
        "                return index\n",
        "            \n",
        "            #print(left)\n",
        "        return -1"
      ],
      "execution_count": 0,
      "outputs": []
    },
    {
      "cell_type": "code",
      "metadata": {
        "id": "n4-cQ9ZicmoC",
        "colab_type": "code",
        "colab": {}
      },
      "source": [
        ""
      ],
      "execution_count": 0,
      "outputs": []
    },
    {
      "cell_type": "code",
      "metadata": {
        "id": "ZLcrGMprZxmH",
        "colab_type": "code",
        "colab": {}
      },
      "source": [
        "sol = Solution2()"
      ],
      "execution_count": 0,
      "outputs": []
    },
    {
      "cell_type": "code",
      "metadata": {
        "id": "opDtNTNlZ0Re",
        "colab_type": "code",
        "outputId": "1a4c9f3b-c385-48d3-d532-3bec25f59a28",
        "colab": {
          "base_uri": "https://localhost:8080/",
          "height": 35
        }
      },
      "source": [
        "sol.pivotIndex([1,7,3,6,5,6])"
      ],
      "execution_count": 0,
      "outputs": [
        {
          "output_type": "execute_result",
          "data": {
            "text/plain": [
              "-1"
            ]
          },
          "metadata": {
            "tags": []
          },
          "execution_count": 83
        }
      ]
    },
    {
      "cell_type": "code",
      "metadata": {
        "id": "2crBVRHUcnmf",
        "colab_type": "code",
        "colab": {}
      },
      "source": [
        "class Solution(object):\n",
        "    def maxProfit(self, prices):\n",
        "        \"\"\"\n",
        "        :type prices: List[int]\n",
        "        :rtype: int\n",
        "        \"\"\"\n",
        "        maxP = 0\n",
        "        minPrice = prices[0]\n",
        "        for i in range(1,len(prices)-1):\n",
        "            \n",
        "            price = prices[i]\n",
        "            \n",
        "            if price < minPrice:\n",
        "                minPrice = price\n",
        "            currentProfit = price-minPrice\n",
        "            \n",
        "            maxP = max(maxP,currentProfit)\n",
        "            \n",
        "        return maxP"
      ],
      "execution_count": 0,
      "outputs": []
    },
    {
      "cell_type": "code",
      "metadata": {
        "id": "kG7mYo0dmrE5",
        "colab_type": "code",
        "colab": {}
      },
      "source": [
        "sol = Solution()"
      ],
      "execution_count": 0,
      "outputs": []
    },
    {
      "cell_type": "code",
      "metadata": {
        "id": "BRIsOhY2uleO",
        "colab_type": "code",
        "outputId": "fbc58244-bddd-41bf-db8b-5441ee6a0011",
        "colab": {
          "base_uri": "https://localhost:8080/",
          "height": 308
        }
      },
      "source": [
        "sol.maxProfit([])"
      ],
      "execution_count": 0,
      "outputs": [
        {
          "output_type": "error",
          "ename": "IndexError",
          "evalue": "ignored",
          "traceback": [
            "\u001b[0;31m---------------------------------------------------------------------------\u001b[0m",
            "\u001b[0;31mIndexError\u001b[0m                                Traceback (most recent call last)",
            "\u001b[0;32m<ipython-input-12-3b2313bd2363>\u001b[0m in \u001b[0;36m<module>\u001b[0;34m()\u001b[0m\n\u001b[0;32m----> 1\u001b[0;31m \u001b[0msol\u001b[0m\u001b[0;34m.\u001b[0m\u001b[0mmaxProfit\u001b[0m\u001b[0;34m(\u001b[0m\u001b[0;34m[\u001b[0m\u001b[0;34m]\u001b[0m\u001b[0;34m)\u001b[0m\u001b[0;34m\u001b[0m\u001b[0;34m\u001b[0m\u001b[0m\n\u001b[0m",
            "\u001b[0;32m<ipython-input-10-73dbce559b60>\u001b[0m in \u001b[0;36mmaxProfit\u001b[0;34m(self, prices)\u001b[0m\n\u001b[1;32m      6\u001b[0m         \"\"\"\n\u001b[1;32m      7\u001b[0m         \u001b[0mmaxP\u001b[0m \u001b[0;34m=\u001b[0m \u001b[0;36m0\u001b[0m\u001b[0;34m\u001b[0m\u001b[0;34m\u001b[0m\u001b[0m\n\u001b[0;32m----> 8\u001b[0;31m         \u001b[0mminPrice\u001b[0m \u001b[0;34m=\u001b[0m \u001b[0mprices\u001b[0m\u001b[0;34m[\u001b[0m\u001b[0;36m0\u001b[0m\u001b[0;34m]\u001b[0m\u001b[0;34m\u001b[0m\u001b[0;34m\u001b[0m\u001b[0m\n\u001b[0m\u001b[1;32m      9\u001b[0m         \u001b[0;32mfor\u001b[0m \u001b[0mi\u001b[0m \u001b[0;32min\u001b[0m \u001b[0mrange\u001b[0m\u001b[0;34m(\u001b[0m\u001b[0;36m1\u001b[0m\u001b[0;34m,\u001b[0m\u001b[0mlen\u001b[0m\u001b[0;34m(\u001b[0m\u001b[0mprices\u001b[0m\u001b[0;34m)\u001b[0m\u001b[0;34m-\u001b[0m\u001b[0;36m1\u001b[0m\u001b[0;34m)\u001b[0m\u001b[0;34m:\u001b[0m\u001b[0;34m\u001b[0m\u001b[0;34m\u001b[0m\u001b[0m\n\u001b[1;32m     10\u001b[0m \u001b[0;34m\u001b[0m\u001b[0m\n",
            "\u001b[0;31mIndexError\u001b[0m: list index out of range"
          ]
        }
      ]
    },
    {
      "cell_type": "code",
      "metadata": {
        "id": "fEiCwQAJmfrZ",
        "colab_type": "code",
        "colab": {}
      },
      "source": [
        "from collections import Counter"
      ],
      "execution_count": 0,
      "outputs": []
    },
    {
      "cell_type": "code",
      "metadata": {
        "id": "UYBJ7Yn0j8WX",
        "colab_type": "code",
        "outputId": "121f8c14-3b8f-49cf-826b-ddabdf48f4f2",
        "colab": {
          "base_uri": "https://localhost:8080/",
          "height": 132
        }
      },
      "source": [
        "def sentence_rev(sen):\n",
        "  \n",
        "  words = sen.split()\n",
        "  dis = set()\n",
        "  count = Counter(words)\n",
        "  \n",
        "  print(count)\n",
        "  rev = \"\"\n",
        "  for word in words:\n",
        "    \n",
        "    if word in dis:\n",
        "      continue\n",
        "    else:\n",
        "      dis.add(word)\n",
        "  new_words = list(dis)\n",
        "  for words in new_words:\n",
        "      = words[::-1]\n",
        " \n",
        "  return \"\".join(rev)"
      ],
      "execution_count": 0,
      "outputs": [
        {
          "output_type": "error",
          "ename": "IndentationError",
          "evalue": "ignored",
          "traceback": [
            "\u001b[0;36m  File \u001b[0;32m\"<ipython-input-24-76ae18920fed>\"\u001b[0;36m, line \u001b[0;32m17\u001b[0m\n\u001b[0;31m    rev = words[::-1]\u001b[0m\n\u001b[0m      ^\u001b[0m\n\u001b[0;31mIndentationError\u001b[0m\u001b[0;31m:\u001b[0m expected an indented block\n"
          ]
        }
      ]
    },
    {
      "cell_type": "code",
      "metadata": {
        "id": "KxyC_ixZqwZi",
        "colab_type": "code",
        "colab": {}
      },
      "source": [
        ""
      ],
      "execution_count": 0,
      "outputs": []
    },
    {
      "cell_type": "code",
      "metadata": {
        "id": "5UC0ID4WltxQ",
        "colab_type": "code",
        "outputId": "2c2c90a4-3096-42a5-a141-0b0d594fdca5",
        "colab": {
          "base_uri": "https://localhost:8080/",
          "height": 52
        }
      },
      "source": [
        "sentence_rev(\"bolofinde olusegun bolofinde\")"
      ],
      "execution_count": 0,
      "outputs": [
        {
          "output_type": "stream",
          "text": [
            "Counter({'bolofinde': 2, 'olusegun': 1})\n"
          ],
          "name": "stdout"
        },
        {
          "output_type": "execute_result",
          "data": {
            "text/plain": [
              "'bolofindeolusegun'"
            ]
          },
          "metadata": {
            "tags": []
          },
          "execution_count": 23
        }
      ]
    },
    {
      "cell_type": "code",
      "metadata": {
        "id": "-Gbk0hfRmE6I",
        "colab_type": "code",
        "outputId": "e09a2b50-e133-4b88-aaa2-26978ba57634",
        "colab": {
          "base_uri": "https://localhost:8080/",
          "height": 35
        }
      },
      "source": [
        "sentence =  \"bolofinde olusegun victor\"\n",
        "print(sentence.split())"
      ],
      "execution_count": 0,
      "outputs": [
        {
          "output_type": "stream",
          "text": [
            "['bolofinde', 'olusegun', 'victor']\n"
          ],
          "name": "stdout"
        }
      ]
    },
    {
      "cell_type": "code",
      "metadata": {
        "id": "wr9ulrOfqxQ_",
        "colab_type": "code",
        "colab": {}
      },
      "source": [
        "def sentence_rev2(sen):\n",
        "  \n",
        "  words = sen.split()\n",
        " \n",
        "  dis = set()\n",
        "  count = Counter(words)\n",
        "  \n",
        "  #print(count)\n",
        "  #rev = \"\"\n",
        "  for word in words:\n",
        "    word = word.lower()\n",
        "\n",
        "    if word in dis:\n",
        "      continue\n",
        "    else:\n",
        "      dis.add(word)\n",
        "  new_words = list(dis)\n",
        "  print(new_words)\n",
        "  rev = new_words[::-1]\n",
        "  print(rev)\n",
        "  return \" \".join(rev)"
      ],
      "execution_count": 0,
      "outputs": []
    },
    {
      "cell_type": "code",
      "metadata": {
        "id": "PE4tYkIeq6iP",
        "colab_type": "code",
        "outputId": "9ef85d74-e8d0-4af3-f00a-7e14bb30a2ce",
        "colab": {
          "base_uri": "https://localhost:8080/",
          "height": 70
        }
      },
      "source": [
        "sentence_rev2(\"How Are you\")"
      ],
      "execution_count": 0,
      "outputs": [
        {
          "output_type": "stream",
          "text": [
            "['are', 'how', 'you']\n",
            "['you', 'how', 'are']\n"
          ],
          "name": "stdout"
        },
        {
          "output_type": "execute_result",
          "data": {
            "text/plain": [
              "'you how are'"
            ]
          },
          "metadata": {
            "tags": []
          },
          "execution_count": 50
        }
      ]
    },
    {
      "cell_type": "code",
      "metadata": {
        "id": "N0l5vGiTCSIR",
        "colab_type": "code",
        "colab": {}
      },
      "source": [
        "def permute(s1,s2):\n",
        "  \n",
        "  s1 = s1.lower()\n",
        "  s2 = s2.lower()\n",
        "  \n",
        "  s3 = sorted(s1)\n",
        "  print(s3)\n",
        "  return sorted(s1) == sorted(s2)"
      ],
      "execution_count": 0,
      "outputs": []
    },
    {
      "cell_type": "code",
      "metadata": {
        "id": "OK8PPnDBCi0m",
        "colab_type": "code",
        "outputId": "a1c92cd4-897e-4094-a924-8f5f47b2ac95",
        "colab": {
          "base_uri": "https://localhost:8080/",
          "height": 52
        }
      },
      "source": [
        "permute(\"bolof\",\"fol\")"
      ],
      "execution_count": 0,
      "outputs": [
        {
          "output_type": "stream",
          "text": [
            "['b', 'f', 'l', 'o', 'o']\n"
          ],
          "name": "stdout"
        },
        {
          "output_type": "execute_result",
          "data": {
            "text/plain": [
              "False"
            ]
          },
          "metadata": {
            "tags": []
          },
          "execution_count": 59
        }
      ]
    },
    {
      "cell_type": "code",
      "metadata": {
        "id": "_2VO9y3NjFgi",
        "colab_type": "code",
        "colab": {}
      },
      "source": [
        "def maxDistance(arr):\n",
        "  \n",
        "  result = 0\n",
        "  \n",
        "  for i in range(len(arr)):\n",
        "    for j in range(i+1,len(arr)):\n",
        "      \n",
        "      if arr[i] == arr[j]:\n",
        "        result = max(result,j-i)\n",
        "  print(len(arr)-1)\n",
        "  return result"
      ],
      "execution_count": 0,
      "outputs": []
    },
    {
      "cell_type": "code",
      "metadata": {
        "id": "OY0eOdIpSRDh",
        "colab_type": "code",
        "outputId": "d9d00400-19bd-4a71-b022-f87e5ffbedac",
        "colab": {
          "base_uri": "https://localhost:8080/",
          "height": 52
        }
      },
      "source": [
        "maxDistance([4,6,2,2,6,6,4])"
      ],
      "execution_count": 0,
      "outputs": [
        {
          "output_type": "stream",
          "text": [
            "6\n"
          ],
          "name": "stdout"
        },
        {
          "output_type": "execute_result",
          "data": {
            "text/plain": [
              "6"
            ]
          },
          "metadata": {
            "tags": []
          },
          "execution_count": 24
        }
      ]
    },
    {
      "cell_type": "code",
      "metadata": {
        "id": "0hsXaf1HUDx6",
        "colab_type": "code",
        "colab": {}
      },
      "source": [
        "def maxDistance(arr):\n",
        "  result = 0\n",
        "  \n",
        "  right = 0\n",
        "  left = len(arr)-1\n",
        "  \n",
        "  diff1 = 0\n",
        "  diff2 = 0\n",
        "  \n",
        "  while right < left:\n",
        "    if arr[right] == arr[left]:\n",
        "      rifht +=1\n",
        "    else:\n",
        "      break\n",
        "    diff1 = left-right   \n",
        "  while right < left:\n",
        "    \n",
        "    if arr[right] == arr[left]:\n",
        "      \n",
        "      left -=1\n",
        "      \n",
        "    else:\n",
        "      break\n",
        "    diff2 = left-right\n",
        "    \n",
        "  \n",
        "  return max(diff1,diff2)\n",
        "   \n",
        " "
      ],
      "execution_count": 0,
      "outputs": []
    },
    {
      "cell_type": "code",
      "metadata": {
        "id": "kCmeNtaZdICd",
        "colab_type": "code",
        "colab": {}
      },
      "source": [
        "def maxDistance(arr):\n",
        "  \n",
        "  dic = {}\n",
        " \n",
        "  maxdict = 0\n",
        "  for i in range(0,len(arr)):\n",
        "    \n",
        "    char = arr[i]\n",
        "    if char not in dic.keys():\n",
        "      dic[char] = i\n",
        "      \n",
        "    else:\n",
        "      maxdict = max(maxdict,i-dic[char])\n",
        "  return maxdict"
      ],
      "execution_count": 0,
      "outputs": []
    },
    {
      "cell_type": "code",
      "metadata": {
        "id": "WFTpxbGxfrnm",
        "colab_type": "code",
        "outputId": "f16eef57-67ce-4222-b05d-ea7cf5856da2",
        "colab": {
          "base_uri": "https://localhost:8080/",
          "height": 35
        }
      },
      "source": [
        "maxDistance(\"abca\")"
      ],
      "execution_count": 0,
      "outputs": [
        {
          "output_type": "execute_result",
          "data": {
            "text/plain": [
              "3"
            ]
          },
          "metadata": {
            "tags": []
          },
          "execution_count": 43
        }
      ]
    },
    {
      "cell_type": "markdown",
      "metadata": {
        "id": "bbmCLHfdtJZT",
        "colab_type": "text"
      },
      "source": [
        "Strings problems and solutions in leetcode "
      ]
    },
    {
      "cell_type": "code",
      "metadata": {
        "id": "EVb4O8kbtOqo",
        "colab_type": "code",
        "colab": {}
      },
      "source": [
        "class Solution:\n",
        "  \n",
        "  def isPalindrone(string):\n",
        "    # a string is a palindrone if the reverse of the string and the string reads the same\\\n",
        "    # a string is a palindrone if each character to left mirrors character to the right\n",
        "\n",
        "    string = string.lower()\n",
        "    #st = list(string)\n",
        "    leftPointer = 0\n",
        "    rightPointer = len(string)-1\n",
        "    while leftPointer < rightPointer:\n",
        "\n",
        "      if string[leftPointer] != string[rightPointer]:\n",
        "        return False\n",
        "\n",
        "        leftPointer +=1\n",
        "        rightPointer -=1\n",
        "      \n",
        "    print(string)\n",
        "    return True"
      ],
      "execution_count": 0,
      "outputs": []
    },
    {
      "cell_type": "code",
      "metadata": {
        "id": "s09hpju1zM82",
        "colab_type": "code",
        "colab": {}
      },
      "source": [
        ""
      ],
      "execution_count": 0,
      "outputs": []
    },
    {
      "cell_type": "code",
      "metadata": {
        "id": "QvHItCNRzN0-",
        "colab_type": "code",
        "colab": {}
      },
      "source": [
        ""
      ],
      "execution_count": 0,
      "outputs": []
    },
    {
      "cell_type": "code",
      "metadata": {
        "id": "TsSZ42yAv4zG",
        "colab_type": "code",
        "colab": {}
      },
      "source": [
        "sol = Solution()"
      ],
      "execution_count": 0,
      "outputs": []
    },
    {
      "cell_type": "code",
      "metadata": {
        "id": "Bom7-YOpwJCd",
        "colab_type": "code",
        "outputId": "a6799c1f-ea75-4e7a-871d-24c109c5abf2",
        "colab": {
          "base_uri": "https://localhost:8080/",
          "height": 167
        }
      },
      "source": [
        "sol.isPalindrone(\"lol\")"
      ],
      "execution_count": 0,
      "outputs": [
        {
          "output_type": "error",
          "ename": "TypeError",
          "evalue": "ignored",
          "traceback": [
            "\u001b[0;31m---------------------------------------------------------------------------\u001b[0m",
            "\u001b[0;31mTypeError\u001b[0m                                 Traceback (most recent call last)",
            "\u001b[0;32m<ipython-input-65-bb0073899083>\u001b[0m in \u001b[0;36m<module>\u001b[0;34m()\u001b[0m\n\u001b[0;32m----> 1\u001b[0;31m \u001b[0msol\u001b[0m\u001b[0;34m.\u001b[0m\u001b[0misPalindrone\u001b[0m\u001b[0;34m(\u001b[0m\u001b[0;34m\"lol\"\u001b[0m\u001b[0;34m)\u001b[0m\u001b[0;34m\u001b[0m\u001b[0;34m\u001b[0m\u001b[0m\n\u001b[0m",
            "\u001b[0;31mTypeError\u001b[0m: isPalindrone() takes 1 positional argument but 2 were given"
          ]
        }
      ]
    },
    {
      "cell_type": "code",
      "metadata": {
        "id": "lYttJaXTzOzf",
        "colab_type": "code",
        "colab": {}
      },
      "source": [
        " # a string is a palindrone if the reverse of the string and the string reads the same\\\n",
        "    # a string is a palindrone if each character to left mirrors character to the right\n",
        "def isPalindrone2(string):\n",
        "  \n",
        "  string = string.lower()\n",
        "  \n",
        "  left = 0\n",
        "  right = len(string)-1\n",
        "  \n",
        "  while left < right:\n",
        "    \n",
        "    if string[left] != string[right]:\n",
        "      return False\n",
        "    \n",
        "    left +=1\n",
        "    right -=1\n",
        "    \n",
        "  return True"
      ],
      "execution_count": 0,
      "outputs": []
    },
    {
      "cell_type": "code",
      "metadata": {
        "id": "MedSAMhfzPCk",
        "colab_type": "code",
        "outputId": "b8ddeece-b61d-472d-a427-715497f308e8",
        "colab": {
          "base_uri": "https://localhost:8080/",
          "height": 35
        }
      },
      "source": [
        "isPalindrone2(\"abaa\")"
      ],
      "execution_count": 0,
      "outputs": [
        {
          "output_type": "execute_result",
          "data": {
            "text/plain": [
              "False"
            ]
          },
          "metadata": {
            "tags": []
          },
          "execution_count": 6
        }
      ]
    },
    {
      "cell_type": "code",
      "metadata": {
        "id": "gUTx5FNX8sKk",
        "colab_type": "code",
        "colab": {}
      },
      "source": [
        "maxlen = 1\n",
        "def longestPalindrone(s):\n",
        "  \n",
        "  startIndex = 0\n",
        "  \n",
        "  def expandArroundMiddle(left,right):\n",
        "    \n",
        "    while (left>=0 and right < len(s)-1 and s[left] == s[right]):\n",
        "      \n",
        "      currentPalLen = right-left+1\n",
        "      \n",
        "      if currentPalLen > maxlen:\n",
        "        maxlen = currentPalLen\n",
        "        startIndex = left\n",
        "      left -=1\n",
        "      right +=1\n",
        "      \n",
        "      \n",
        "  for i in range(0,len(s)):\n",
        "    expandArroundMiddle(i-1,i+1)\n",
        "    expandArroundMiddle(i,i+1)\n",
        "  return s.slice(startIndex,startIndex+maxlen)"
      ],
      "execution_count": 0,
      "outputs": []
    },
    {
      "cell_type": "code",
      "metadata": {
        "id": "FnNQiSZl-CyU",
        "colab_type": "code",
        "outputId": "473e11a9-07e1-4ca5-a97d-7d3a54bf5bea",
        "colab": {
          "base_uri": "https://localhost:8080/",
          "height": 187
        }
      },
      "source": [
        "longestPalindrone(\"abba\")"
      ],
      "execution_count": 0,
      "outputs": [
        {
          "output_type": "error",
          "ename": "NameError",
          "evalue": "ignored",
          "traceback": [
            "\u001b[0;31m---------------------------------------------------------------------------\u001b[0m",
            "\u001b[0;31mNameError\u001b[0m                                 Traceback (most recent call last)",
            "\u001b[0;32m<ipython-input-80-25cef383d50f>\u001b[0m in \u001b[0;36m<module>\u001b[0;34m()\u001b[0m\n\u001b[0;32m----> 1\u001b[0;31m \u001b[0mlongestPalindrone\u001b[0m\u001b[0;34m(\u001b[0m\u001b[0;34m\"abba\"\u001b[0m\u001b[0;34m)\u001b[0m\u001b[0;34m\u001b[0m\u001b[0;34m\u001b[0m\u001b[0m\n\u001b[0m",
            "\u001b[0;31mNameError\u001b[0m: name 'longestPalindrone' is not defined"
          ]
        }
      ]
    },
    {
      "cell_type": "code",
      "metadata": {
        "id": "4FZhzlkOIoO4",
        "colab_type": "code",
        "colab": {}
      },
      "source": [
        "def lengthOfLongestSub(s):\n",
        "  \n",
        "  #abcabc\n",
        "  maxlen = 0\n",
        "  uniqueCharLen = 0\n",
        "  dic = {}\n",
        "  \n",
        "  for i in range(0,len(s)):\n",
        "    \n",
        "    endChar = s[i]\n",
        "    \n",
        "    if dic[endChar] >= uniqueCharLen:\n",
        "      uniqueCharLen = dic[endChar]+1\n",
        "    \n",
        "    dic[endChar] = i\n",
        "    \n",
        "  maxlen = max(maxlen,i-uniqueCharLen+1)\n",
        "  \n",
        "  return maxlen"
      ],
      "execution_count": 0,
      "outputs": []
    },
    {
      "cell_type": "code",
      "metadata": {
        "id": "QynUw6M5XHFK",
        "colab_type": "code",
        "outputId": "253ef16f-6cf5-4a67-93c2-04ab9840c597",
        "colab": {
          "base_uri": "https://localhost:8080/",
          "height": 288
        }
      },
      "source": [
        "lengthOfLongestSub(\"abcabc\")"
      ],
      "execution_count": 0,
      "outputs": [
        {
          "output_type": "error",
          "ename": "KeyError",
          "evalue": "ignored",
          "traceback": [
            "\u001b[0;31m---------------------------------------------------------------------------\u001b[0m",
            "\u001b[0;31mKeyError\u001b[0m                                  Traceback (most recent call last)",
            "\u001b[0;32m<ipython-input-25-c748563cb69c>\u001b[0m in \u001b[0;36m<module>\u001b[0;34m()\u001b[0m\n\u001b[0;32m----> 1\u001b[0;31m \u001b[0mlengthOfLongestSub\u001b[0m\u001b[0;34m(\u001b[0m\u001b[0;34m\"abcabc\"\u001b[0m\u001b[0;34m)\u001b[0m\u001b[0;34m\u001b[0m\u001b[0;34m\u001b[0m\u001b[0m\n\u001b[0m",
            "\u001b[0;32m<ipython-input-24-ece1a670b2fd>\u001b[0m in \u001b[0;36mlengthOfLongestSub\u001b[0;34m(s)\u001b[0m\n\u001b[1;32m     10\u001b[0m     \u001b[0mendChar\u001b[0m \u001b[0;34m=\u001b[0m \u001b[0ms\u001b[0m\u001b[0;34m[\u001b[0m\u001b[0mi\u001b[0m\u001b[0;34m]\u001b[0m\u001b[0;34m\u001b[0m\u001b[0;34m\u001b[0m\u001b[0m\n\u001b[1;32m     11\u001b[0m \u001b[0;34m\u001b[0m\u001b[0m\n\u001b[0;32m---> 12\u001b[0;31m     \u001b[0;32mif\u001b[0m \u001b[0mdic\u001b[0m\u001b[0;34m[\u001b[0m\u001b[0mendChar\u001b[0m\u001b[0;34m]\u001b[0m \u001b[0;34m>=\u001b[0m \u001b[0muniqueCharLen\u001b[0m\u001b[0;34m:\u001b[0m\u001b[0;34m\u001b[0m\u001b[0;34m\u001b[0m\u001b[0m\n\u001b[0m\u001b[1;32m     13\u001b[0m       \u001b[0muniqueCharLen\u001b[0m \u001b[0;34m=\u001b[0m \u001b[0mdic\u001b[0m\u001b[0;34m[\u001b[0m\u001b[0mendChar\u001b[0m\u001b[0;34m]\u001b[0m\u001b[0;34m+\u001b[0m\u001b[0;36m1\u001b[0m\u001b[0;34m\u001b[0m\u001b[0;34m\u001b[0m\u001b[0m\n\u001b[1;32m     14\u001b[0m \u001b[0;34m\u001b[0m\u001b[0m\n",
            "\u001b[0;31mKeyError\u001b[0m: 'a'"
          ]
        }
      ]
    },
    {
      "cell_type": "code",
      "metadata": {
        "id": "yKVn2ElzZEtx",
        "colab_type": "code",
        "colab": {}
      },
      "source": [
        "def lengthOfLongestSubstring(s):\n",
        "  \n",
        "  #abcabc\n",
        "  d = {}\n",
        "  \n",
        "  windowStart = 0\n",
        "  result = 0\n",
        "  \n",
        "  for i,c in enumerate(s):\n",
        "    if c in d:\n",
        "      windowStart = max(windowStart,d[c]+1)\n",
        "    d[c] =i\n",
        "    \n",
        "    result = max(result,i-windowStart+1)"
      ],
      "execution_count": 0,
      "outputs": []
    },
    {
      "cell_type": "code",
      "metadata": {
        "id": "bYnJ3O6srago",
        "colab_type": "code",
        "colab": {}
      },
      "source": [
        "def groupAnagram(s):\n",
        "  \n",
        "  grouped = {}\n",
        "  \n",
        "  for i in range(len(s)):\n",
        "    \n",
        "    char = s[i]\n",
        "    char_sort = char.split().sort().join()\n",
        "    \n",
        "    grouped[char_sort] = []\n",
        "    \n",
        "    grouped[char_sort].push(char)\n",
        "    \n",
        "  return object.values(grouped)"
      ],
      "execution_count": 0,
      "outputs": []
    },
    {
      "cell_type": "code",
      "metadata": {
        "id": "yySLYh_runDq",
        "colab_type": "code",
        "colab": {}
      },
      "source": [
        "def balanceParen(s):\n",
        "  \n",
        "  stack = []\n",
        "  dic = {\"(\":\")\",\"{\":\"}\",\"[\":\"]\"}\n",
        "  \n",
        "  for i in range(len(s)):\n",
        "    \n",
        "    char = s[i]\n",
        "    \n",
        "    if dic[char] :\n",
        "      stack.append(char)\n",
        "    elif dic[stack.pop()] != char:\n",
        "      return False\n",
        "    \n",
        "    \n",
        "  return len(stack) ==0"
      ],
      "execution_count": 0,
      "outputs": []
    },
    {
      "cell_type": "code",
      "metadata": {
        "id": "TtSwbAVwDlRe",
        "colab_type": "code",
        "colab": {}
      },
      "source": [
        "def avgSolution(*args):\n",
        "  \n",
        "  \n",
        "  totalNum = len(args)\n",
        "  if totalNum > 0:\n",
        "    \n",
        "    sumOfNumbers = 0\n",
        "    avg = 0\n",
        "  \n",
        "    for num in args:\n",
        "    \n",
        "      sumOfNumbers +=num\n",
        "    \n",
        "      avg = max(avg,sumOfNumbers/totalNum)\n",
        "  \n",
        "  return avg"
      ],
      "execution_count": 0,
      "outputs": []
    },
    {
      "cell_type": "code",
      "metadata": {
        "id": "w-opLl0tE_4T",
        "colab_type": "code",
        "outputId": "a5d5bffa-1493-4a7f-aafb-a15d8bdd7c67",
        "colab": {
          "base_uri": "https://localhost:8080/",
          "height": 55
        }
      },
      "source": [
        "avgSolution(4,5,6)"
      ],
      "execution_count": 0,
      "outputs": [
        {
          "output_type": "execute_result",
          "data": {
            "text/plain": [
              "5.0"
            ]
          },
          "metadata": {
            "tags": []
          },
          "execution_count": 5
        }
      ]
    },
    {
      "cell_type": "code",
      "metadata": {
        "id": "H1fUQePFFvMj",
        "colab_type": "code",
        "colab": {}
      },
      "source": [
        "#lambda function\n",
        "def square(num):\n",
        "  \n",
        "  return num**2\n",
        "\n",
        "\n"
      ],
      "execution_count": 0,
      "outputs": []
    },
    {
      "cell_type": "code",
      "metadata": {
        "id": "SbgItmHgauXu",
        "colab_type": "code",
        "colab": {}
      },
      "source": [
        "def checkDup(arr):\n",
        "  \n",
        "  setOfElements = set()\n",
        "  \n",
        "  for elem in arr:\n",
        "    if elem in setOfElements:\n",
        "      return True\n",
        "    else:\n",
        "      setOfElements.add(elem)\n",
        "  return False"
      ],
      "execution_count": 0,
      "outputs": []
    },
    {
      "cell_type": "code",
      "metadata": {
        "id": "HT0F-qQUc0wz",
        "colab_type": "code",
        "colab": {}
      },
      "source": [
        "def checkDup2(arr):\n",
        "  \n",
        "  for elem in arr:\n",
        "    if arr.count(elem) > 1:\n",
        "      return True\n",
        "  return False\n",
        "    \n",
        "    "
      ],
      "execution_count": 0,
      "outputs": []
    },
    {
      "cell_type": "code",
      "metadata": {
        "id": "lIC2pzUCfDui",
        "colab_type": "code",
        "colab": {}
      },
      "source": [
        "def maxNumChars(string):\n",
        "  res = -1\n",
        "  for i in range(len(string)):\n",
        "    for j in range(i+1,len(string)):\n",
        "      if string[i] == string[j]:\n",
        "        \n",
        "        res = max(res,abs(j-i))\n",
        "  return res"
      ],
      "execution_count": 0,
      "outputs": []
    },
    {
      "cell_type": "code",
      "metadata": {
        "id": "bN7GmJTDqPuW",
        "colab_type": "code",
        "colab": {}
      },
      "source": [
        ""
      ],
      "execution_count": 0,
      "outputs": []
    },
    {
      "cell_type": "code",
      "metadata": {
        "id": "7xmewiiEo6oV",
        "colab_type": "code",
        "outputId": "359d92d3-7eb4-42ac-9461-c611f3ee19ed",
        "colab": {
          "base_uri": "https://localhost:8080/",
          "height": 55
        }
      },
      "source": [
        "maxNumChars(\"aca\")"
      ],
      "execution_count": 0,
      "outputs": [
        {
          "output_type": "execute_result",
          "data": {
            "text/plain": [
              "2"
            ]
          },
          "metadata": {
            "tags": []
          },
          "execution_count": 28
        }
      ]
    },
    {
      "cell_type": "code",
      "metadata": {
        "id": "QG_Bt9-cqQfG",
        "colab_type": "code",
        "colab": {}
      },
      "source": [
        "def productTwoNum(arr,product):\n",
        "  dic = {}\n",
        "  result = []\n",
        "  \n",
        "  for i,num in enumerate(arr):\n",
        "    temp = product/num\n",
        "    if temp in dic:\n",
        "      result.append(dic[temp])\n",
        "      result.append(i)\n",
        "    dic[num] = i\n",
        "    \n",
        "  return result"
      ],
      "execution_count": 0,
      "outputs": []
    },
    {
      "cell_type": "code",
      "metadata": {
        "id": "R5apYi9O3tam",
        "colab_type": "code",
        "colab": {}
      },
      "source": [
        ""
      ],
      "execution_count": 0,
      "outputs": []
    },
    {
      "cell_type": "code",
      "metadata": {
        "id": "luyMeHQRv0c5",
        "colab_type": "code",
        "outputId": "f1b230e1-e937-4bcb-81d4-6cc5eecc9fe4",
        "colab": {
          "base_uri": "https://localhost:8080/",
          "height": 55
        }
      },
      "source": [
        "productTwoNum([3,4,-2,5,6],20)"
      ],
      "execution_count": 0,
      "outputs": [
        {
          "output_type": "execute_result",
          "data": {
            "text/plain": [
              "[1, 3]"
            ]
          },
          "metadata": {
            "tags": []
          },
          "execution_count": 33
        }
      ]
    },
    {
      "cell_type": "code",
      "metadata": {
        "id": "dV9812kx3uFc",
        "colab_type": "code",
        "colab": {}
      },
      "source": [
        "def pro(arr,prod):\n",
        "  \n",
        "  result = []\n",
        "  for i in range(len(arr)):\n",
        "    for j in range(i+1,len(arr)):\n",
        "      \n",
        "      if arr[i]*arr[j] == prod:\n",
        "        result.append(i)\n",
        "        result.append(j)\n",
        "  return result "
      ],
      "execution_count": 0,
      "outputs": []
    },
    {
      "cell_type": "code",
      "metadata": {
        "id": "cAvUgd1J4jPP",
        "colab_type": "code",
        "outputId": "51bc096a-6e36-4cff-a8f0-58623f1e938a",
        "colab": {
          "base_uri": "https://localhost:8080/",
          "height": 55
        }
      },
      "source": [
        "pro([3,4,-2,5,6],20)"
      ],
      "execution_count": 0,
      "outputs": [
        {
          "output_type": "execute_result",
          "data": {
            "text/plain": [
              "[1, 3]"
            ]
          },
          "metadata": {
            "tags": []
          },
          "execution_count": 40
        }
      ]
    },
    {
      "cell_type": "code",
      "metadata": {
        "id": "1dwoKdDm4zE4",
        "colab_type": "code",
        "colab": {}
      },
      "source": [
        "from collections import Counter\n",
        "\n",
        "def mostFreq(arr):\n",
        "  \n",
        "  maxcount = 0\n",
        "  max_item = None\n",
        "  dic = {}\n",
        "  \n",
        "  for num in arr:\n",
        "    if num in dic:\n",
        "      dic[num] +=1\n",
        "    else:\n",
        "      dic[num] =1\n",
        "    \n",
        "    if dic[num] > maxcount:\n",
        "      maxcount = dic[num]\n",
        "      max_item = num\n",
        "  \n",
        "  return max_item\n",
        "  \n",
        "  \n",
        "  \n",
        "  \n",
        "  "
      ],
      "execution_count": 0,
      "outputs": []
    },
    {
      "cell_type": "code",
      "metadata": {
        "id": "yjjVfEtpIdaq",
        "colab_type": "code",
        "outputId": "3682147b-ed03-4dc5-aa5e-0d21a8b73100",
        "colab": {
          "base_uri": "https://localhost:8080/",
          "height": 55
        }
      },
      "source": [
        "mostFreq([1,3,1,3,2,1,2])"
      ],
      "execution_count": 0,
      "outputs": [
        {
          "output_type": "execute_result",
          "data": {
            "text/plain": [
              "1"
            ]
          },
          "metadata": {
            "tags": []
          },
          "execution_count": 53
        }
      ]
    },
    {
      "cell_type": "code",
      "metadata": {
        "id": "jgZruxSoPPk-",
        "colab_type": "code",
        "colab": {}
      },
      "source": [
        "\n",
        "def mostFreq2(arr):\n",
        "  \n",
        "  if len(arr) <=0:\n",
        "    print(\"Atlease two numbers required \")\n",
        "  maxcount = 0\n",
        "  max_item = None\n",
        "  dic = {}\n",
        "  \n",
        "  for num in arr:\n",
        "    if num in dic:\n",
        "      dic[num] +=1\n",
        "    else:\n",
        "      dic[num] =1\n",
        "  for k in dic:\n",
        "    if dic[k] > maxcount:\n",
        "      maxcount = dic[k]\n",
        "      print(maxcount)\n",
        "      max_item = k\n",
        "      \n",
        "  return max_item\n",
        "  "
      ],
      "execution_count": 0,
      "outputs": []
    },
    {
      "cell_type": "code",
      "metadata": {
        "id": "CkZmX-CyPhFu",
        "colab_type": "code",
        "outputId": "fe6aa635-ffc3-4b1c-cae9-1a0ea702073e",
        "colab": {
          "base_uri": "https://localhost:8080/",
          "height": 72
        }
      },
      "source": [
        "mostFreq2([1,2])"
      ],
      "execution_count": 0,
      "outputs": [
        {
          "output_type": "stream",
          "text": [
            "1\n"
          ],
          "name": "stdout"
        },
        {
          "output_type": "execute_result",
          "data": {
            "text/plain": [
              "1"
            ]
          },
          "metadata": {
            "tags": []
          },
          "execution_count": 73
        }
      ]
    },
    {
      "cell_type": "code",
      "metadata": {
        "id": "1NtbG4K5RI7A",
        "colab_type": "code",
        "colab": {}
      },
      "source": [
        "def common_element_in_sorted(arr1,arr2):\n",
        "  \n",
        "  #edge case\n",
        "  \n",
        "  p1 = 0\n",
        "  p2 = 0\n",
        "  result = []\n",
        "  \n",
        "  while p1< len(arr1)-1 and p2 < len(arr2)-1:\n",
        "    \n",
        "      \n",
        "      if arr1[p1] == arr2[p2]:\n",
        "        result.append(arr1[p1])\n",
        "      p1 +=1\n",
        "      p2 +=1\n",
        "        \n",
        "      \n",
        "  return result"
      ],
      "execution_count": 0,
      "outputs": []
    },
    {
      "cell_type": "code",
      "metadata": {
        "id": "Bc91-3lRXOYY",
        "colab_type": "code",
        "colab": {}
      },
      "source": [
        ""
      ],
      "execution_count": 0,
      "outputs": []
    },
    {
      "cell_type": "code",
      "metadata": {
        "id": "FYim38A8VAIT",
        "colab_type": "code",
        "outputId": "bf1d0c0f-2dde-451c-ee8c-e30abc506213",
        "colab": {
          "base_uri": "https://localhost:8080/",
          "height": 55
        }
      },
      "source": [
        "common_element_in_sorted([1,3,4,6,7,9],[1,2,4,5,9,10])"
      ],
      "execution_count": 0,
      "outputs": [
        {
          "output_type": "execute_result",
          "data": {
            "text/plain": [
              "[1, 4]"
            ]
          },
          "metadata": {
            "tags": []
          },
          "execution_count": 96
        }
      ]
    },
    {
      "cell_type": "code",
      "metadata": {
        "id": "faP5LaqxXO-n",
        "colab_type": "code",
        "colab": {}
      },
      "source": [
        "def common_element(arr1,arr2):\n",
        "  \n",
        "  result = []\n",
        "  for i in range(0,len(arr1)-1):\n",
        "    for j in range(0,len(arr2)-1):\n",
        "      \n",
        "      if arr1[i]== arr2[j]:\n",
        "        \n",
        "        result.append(arr1[i])\n",
        "  print(len(arr1)-1)\n",
        "  return result"
      ],
      "execution_count": 0,
      "outputs": []
    },
    {
      "cell_type": "code",
      "metadata": {
        "id": "V6aqoPCMXjea",
        "colab_type": "code",
        "outputId": "c81d5d31-35da-4939-f5b8-4c7350e8e83c",
        "colab": {
          "base_uri": "https://localhost:8080/",
          "height": 72
        }
      },
      "source": [
        "common_element([1,3,4,6,7,9],[1,2,4,5,9,10])"
      ],
      "execution_count": 0,
      "outputs": [
        {
          "output_type": "stream",
          "text": [
            "5\n"
          ],
          "name": "stdout"
        },
        {
          "output_type": "execute_result",
          "data": {
            "text/plain": [
              "[1, 4]"
            ]
          },
          "metadata": {
            "tags": []
          },
          "execution_count": 122
        }
      ]
    },
    {
      "cell_type": "code",
      "metadata": {
        "id": "ccX3OqmXnO02",
        "colab_type": "code",
        "colab": {}
      },
      "source": [
        "def myAtoi(s):\n",
        "  \n",
        "  ls = list(s.strip())\n",
        "  \n",
        "  if len(ls) == 0 : return 0\n",
        "  if len(s) == 0: return 0\n",
        "  \n",
        "  sign = -1 \n",
        "  if ls[0] =='-':\n",
        "    sign = -1\n",
        "  else:\n",
        "    1\n",
        "  if ls[0] in ['-','+']:\n",
        "    del ls[0]\n",
        "  \n",
        "  ret, i =0,0\n",
        "  \n",
        "  while i< len(ls) and ls[i]"
      ],
      "execution_count": 0,
      "outputs": []
    },
    {
      "cell_type": "code",
      "metadata": {
        "id": "iFHxkEqcCr_g",
        "colab_type": "code",
        "colab": {}
      },
      "source": [
        "def longestPal(s):\n",
        "  \n",
        "  result = \"\"\n",
        "  \n",
        "  tmp = helper(s,i,i)\n",
        "  if tmp > result:\n",
        "    result = tmp\n",
        "    \n",
        "  \n",
        "  tmp = helper(s,i,i+1)\n",
        "  if tmp > result:\n",
        "    result = tmp\n",
        "  return result\n",
        "  \n",
        "  def helper(s,left,right):\n",
        "    \n",
        "    left =0\n",
        "    right = len(s)-1\n",
        "    \n",
        "    while left < right and s[left] == s[right]:\n",
        "      \n",
        "      left +=1\n",
        "      right -=1\n",
        "      \n",
        "      return s[left+1:right]\n",
        "  \n",
        "  \n",
        "  "
      ],
      "execution_count": 0,
      "outputs": []
    },
    {
      "cell_type": "code",
      "metadata": {
        "id": "kkNr5G5_kY0i",
        "colab_type": "code",
        "colab": {}
      },
      "source": [
        "def largest_continous_sum(arr):\n",
        "  \n",
        "  max_sum = 0\n",
        "  \n",
        "  current_sum = arr[0]\n",
        "  for num in range(1,len(arr)):\n",
        "    \n",
        "    current_sum = max(current_sum+num,num)\n",
        "    max_sum = max(max_sum,current_sum)\n",
        "    \n",
        "  return max_sum"
      ],
      "execution_count": 0,
      "outputs": []
    },
    {
      "cell_type": "code",
      "metadata": {
        "id": "RukHKhJ1mWVl",
        "colab_type": "code",
        "outputId": "5ad4568e-84e2-4d8e-fa2e-6241573cbcf5",
        "colab": {
          "base_uri": "https://localhost:8080/",
          "height": 35
        }
      },
      "source": [
        "largest_continous_sum([1,2,-1,3,4,10,10,-10,-1])"
      ],
      "execution_count": 0,
      "outputs": [
        {
          "output_type": "execute_result",
          "data": {
            "text/plain": [
              "29"
            ]
          },
          "metadata": {
            "tags": []
          },
          "execution_count": 28
        }
      ]
    },
    {
      "cell_type": "code",
      "metadata": {
        "id": "pXQaWaJ4pMbM",
        "colab_type": "code",
        "colab": {}
      },
      "source": [
        ""
      ],
      "execution_count": 0,
      "outputs": []
    },
    {
      "cell_type": "code",
      "metadata": {
        "id": "cn6FLTqupMrM",
        "colab_type": "code",
        "colab": {}
      },
      "source": [
        "def sentence_rev2(sent):\n",
        "  \n",
        "  new_word = sent.split()\n",
        "  \n",
        "  result = new_word[::-1]\n",
        "  \n",
        "  return ' '.join(result)"
      ],
      "execution_count": 0,
      "outputs": []
    },
    {
      "cell_type": "code",
      "metadata": {
        "id": "CfdjoGgeplbb",
        "colab_type": "code",
        "outputId": "014701c9-83f1-450d-a36e-94d235b35536",
        "colab": {
          "base_uri": "https://localhost:8080/",
          "height": 55
        }
      },
      "source": [
        "sentence_rev2(\"hello john how are you\")"
      ],
      "execution_count": 0,
      "outputs": [
        {
          "output_type": "execute_result",
          "data": {
            "text/plain": [
              "'you are how john hello'"
            ]
          },
          "metadata": {
            "tags": []
          },
          "execution_count": 17
        }
      ]
    },
    {
      "cell_type": "code",
      "metadata": {
        "id": "8whYx0imznDH",
        "colab_type": "code",
        "colab": {}
      },
      "source": [
        "def string_compression(string):\n",
        "  \n",
        "  result = \"\"\n",
        "  dic = {}\n",
        "  \n",
        "  for x in string:\n",
        "    if x in dic:\n",
        "      dic[x] +=1\n",
        "    else:\n",
        "      dic[x] = 1\n",
        "      \n",
        "  for key,value in dic.items():\n",
        "    \n",
        "    result +=key+str(value)\n",
        "  return result"
      ],
      "execution_count": 0,
      "outputs": []
    },
    {
      "cell_type": "code",
      "metadata": {
        "id": "xZLB1y0N7GbK",
        "colab_type": "code",
        "outputId": "64dc4679-6f03-4dcb-ec4d-ba4952b7b1a9",
        "colab": {
          "base_uri": "https://localhost:8080/",
          "height": 35
        }
      },
      "source": [
        "string_compression(\"bolof\")"
      ],
      "execution_count": 0,
      "outputs": [
        {
          "output_type": "execute_result",
          "data": {
            "text/plain": [
              "'b1o2l1f1'"
            ]
          },
          "metadata": {
            "tags": []
          },
          "execution_count": 30
        }
      ]
    },
    {
      "cell_type": "code",
      "metadata": {
        "id": "XrZ5C_Eo7G3L",
        "colab_type": "code",
        "colab": {}
      },
      "source": [
        "def rev(s):\n",
        "  \n",
        "  #base case\n",
        "  \n",
        "  if len(s) <=1:\n",
        "    return s\n",
        "  \n",
        "  return rev(s[1:])+s[0]"
      ],
      "execution_count": 0,
      "outputs": []
    },
    {
      "cell_type": "code",
      "metadata": {
        "id": "f8-wF22O7GtY",
        "colab_type": "code",
        "colab": {}
      },
      "source": [
        ""
      ],
      "execution_count": 0,
      "outputs": []
    },
    {
      "cell_type": "code",
      "metadata": {
        "id": "1p7TqXAw2NHn",
        "colab_type": "code",
        "outputId": "b15fbd35-50c2-4036-9b99-52331476d687",
        "colab": {
          "base_uri": "https://localhost:8080/",
          "height": 55
        }
      },
      "source": [
        "string_compression(\"AAaa\")"
      ],
      "execution_count": 0,
      "outputs": [
        {
          "output_type": "execute_result",
          "data": {
            "text/plain": [
              "'A2a2'"
            ]
          },
          "metadata": {
            "tags": []
          },
          "execution_count": 2
        }
      ]
    },
    {
      "cell_type": "code",
      "metadata": {
        "id": "42j-TNT1ojpl",
        "colab_type": "code",
        "colab": {}
      },
      "source": [
        "class Stack(object):\n",
        "  \n",
        "  def __init__(self):\n",
        "    \n",
        "    self.items = []\n",
        "    \n",
        "  def isEmpty(self):\n",
        "    \n",
        "    return self.items ==[]\n",
        "  \n",
        "  def push(self,item):\n",
        "    self.items.append(item)\n",
        "    \n",
        "  def peek(self):\n",
        "    \n",
        "    return self.items.pop()"
      ],
      "execution_count": 0,
      "outputs": []
    },
    {
      "cell_type": "code",
      "metadata": {
        "id": "iqPjNIjUzV-H",
        "colab_type": "code",
        "colab": {}
      },
      "source": [
        "class SolutionBalanceParenthesis(object):\n",
        "  \n",
        "  def balance_parenthesis_check(self,s):\n",
        "    \n",
        "    if len(s)%2 != 0:\n",
        "      return False\n",
        "    \n",
        "    opening = set('({[')\n",
        "    matches = set([('(',')'),('{','}'),('[',']')])\n",
        "    stack = []\n",
        "    for paren in s:\n",
        "      if paren in opening:\n",
        "        stack.append(paren)\n",
        "      else:\n",
        "        if len(stack)==0:\n",
        "          return False\n",
        "      \n",
        "      last_open = stack.pop()\n",
        "      \n",
        "      if (last_open,paren) not in mataches:\n",
        "        return False\n",
        "      \n",
        "      \n",
        "    return len(stack) ==0\n",
        "  "
      ],
      "execution_count": 0,
      "outputs": []
    },
    {
      "cell_type": "code",
      "metadata": {
        "id": "_Op1zijG4xky",
        "colab_type": "code",
        "colab": {}
      },
      "source": [
        "sol = SolutionBalanceParenthesis()"
      ],
      "execution_count": 0,
      "outputs": []
    },
    {
      "cell_type": "code",
      "metadata": {
        "id": "ig9nofgs42Dm",
        "colab_type": "code",
        "colab": {}
      },
      "source": [
        "def reverse(s):\n",
        "  \n",
        "  if len(s) <=1:\n",
        "    return s\n",
        "  else:\n",
        "    return reverse(s[1:])+s[0]"
      ],
      "execution_count": 0,
      "outputs": []
    },
    {
      "cell_type": "code",
      "metadata": {
        "id": "q66GRHaYq5rs",
        "colab_type": "code",
        "colab": {}
      },
      "source": [
        ""
      ],
      "execution_count": 0,
      "outputs": []
    },
    {
      "cell_type": "code",
      "metadata": {
        "id": "JPAsu9pvq6Up",
        "colab_type": "code",
        "outputId": "810dcf0a-80f0-4d7f-f1e7-1b422426a056",
        "colab": {
          "base_uri": "https://localhost:8080/",
          "height": 55
        }
      },
      "source": [
        "reverse(\"Bolof\")"
      ],
      "execution_count": 0,
      "outputs": [
        {
          "output_type": "execute_result",
          "data": {
            "text/plain": [
              "'foloB'"
            ]
          },
          "metadata": {
            "tags": []
          },
          "execution_count": 4
        }
      ]
    },
    {
      "cell_type": "code",
      "metadata": {
        "id": "aphWzvqPq5_x",
        "colab_type": "code",
        "colab": {}
      },
      "source": [
        "def permute(s):\n",
        "  \n",
        "  output = []\n",
        "  \n",
        "  #base case \n",
        "  if len(s) ==1:\n",
        "    output = [s]\n",
        "  else:\n",
        "    \n",
        "    for i, char in enumerate(s):\n",
        "      \n",
        "      for perm in permute(s[:i]+s[i+1:]):\n",
        "        \n",
        "        output += [char+perm]\n",
        "  return output "
      ],
      "execution_count": 0,
      "outputs": []
    },
    {
      "cell_type": "code",
      "metadata": {
        "id": "uObZXA16yZb3",
        "colab_type": "code",
        "colab": {}
      },
      "source": [
        "def fibonachi(n):\n",
        "  \n",
        "  #base case\n",
        "  \n",
        "  if n==0 or n==1:\n",
        "    return n\n",
        "  \n",
        "  else:\n",
        "    return fibonachi(n-1)+ fibonachi(n-2)"
      ],
      "execution_count": 0,
      "outputs": []
    },
    {
      "cell_type": "code",
      "metadata": {
        "id": "fsbWb1wBynSI",
        "colab_type": "code",
        "outputId": "c537af74-9205-402b-c53b-35c26f0f0bd6",
        "colab": {
          "base_uri": "https://localhost:8080/",
          "height": 55
        }
      },
      "source": [
        "fibonachi(10)"
      ],
      "execution_count": 0,
      "outputs": [
        {
          "output_type": "execute_result",
          "data": {
            "text/plain": [
              "55"
            ]
          },
          "metadata": {
            "tags": []
          },
          "execution_count": 10
        }
      ]
    },
    {
      "cell_type": "code",
      "metadata": {
        "id": "BtcAlnPT7LmD",
        "colab_type": "code",
        "outputId": "7ae00dad-fa01-4f0a-ccf5-6354dccb1717",
        "colab": {
          "base_uri": "https://localhost:8080/",
          "height": 72
        }
      },
      "source": [
        "arr = ['3','2','1']\n",
        "arr2 =['1','2','3']\n",
        "print(sorted(arr))\n",
        "print(arr.sort()==arr,arr.sort()==arr2)"
      ],
      "execution_count": 0,
      "outputs": [
        {
          "output_type": "stream",
          "text": [
            "['1', '2', '3']\n",
            "False False\n"
          ],
          "name": "stdout"
        }
      ]
    },
    {
      "cell_type": "code",
      "metadata": {
        "id": "8d7oC7tkzd7Y",
        "colab_type": "code",
        "colab": {}
      },
      "source": [
        "def distance_string(string):\n",
        "  \n",
        "  index = []\n",
        "  #result  = []\n",
        "  result =0\n",
        "   \n",
        "  for i in range(0,len(string)):\n",
        "    for j in range(i+1,len(string)):\n",
        "      if string[i] !=string[j]:\n",
        "        distance = j-i\n",
        "        index.append(distance)\n",
        "        print(index)\n",
        "        result = max(result,j-i)\n",
        "  return result"
      ],
      "execution_count": 0,
      "outputs": []
    },
    {
      "cell_type": "code",
      "metadata": {
        "id": "XGjNakJM6ZI9",
        "colab_type": "code",
        "colab": {}
      },
      "source": [
        "def maxDistance(s):\n",
        "  \n",
        "  maxD =0\n",
        "  dic ={}\n",
        "  \n",
        "  for i,char in enumerate(s):\n",
        "    pass"
      ],
      "execution_count": 0,
      "outputs": []
    },
    {
      "cell_type": "code",
      "metadata": {
        "id": "AUeaBBk47jbo",
        "colab_type": "code",
        "colab": {}
      },
      "source": [
        "def maxDistance(arr):\n",
        "  \n",
        "  dic = {}\n",
        " \n",
        "  maxdict = 0\n",
        "  for i in range(0,len(arr)):\n",
        "    \n",
        "    char = arr[i]\n",
        "    if char not in dic.keys():\n",
        "      dic[char] = i\n",
        "      \n",
        "    else:\n",
        "      maxdict = max(maxdict,i-dic[char])\n",
        "  return maxdict"
      ],
      "execution_count": 0,
      "outputs": []
    },
    {
      "cell_type": "code",
      "metadata": {
        "id": "CQO9lYyNE-tc",
        "colab_type": "code",
        "colab": {}
      },
      "source": [
        ""
      ],
      "execution_count": 0,
      "outputs": []
    },
    {
      "cell_type": "code",
      "metadata": {
        "id": "ybxHInDV7yds",
        "colab_type": "code",
        "outputId": "a7a7cd22-642d-4eeb-87c9-599b5879c6ab",
        "colab": {
          "base_uri": "https://localhost:8080/",
          "height": 35
        }
      },
      "source": [
        "maxDistance('abcdc')"
      ],
      "execution_count": 0,
      "outputs": [
        {
          "output_type": "execute_result",
          "data": {
            "text/plain": [
              "2"
            ]
          },
          "metadata": {
            "tags": []
          },
          "execution_count": 28
        }
      ]
    },
    {
      "cell_type": "code",
      "metadata": {
        "id": "DJ00X3jmE_ho",
        "colab_type": "code",
        "colab": {}
      },
      "source": [
        "def maxDistance_string(s):\n",
        "  \n",
        "  result = 0\n",
        "  dic = []\n",
        "  \n",
        "  for i,char in enumerate(s):\n",
        "    \n",
        "    if char not in dic:\n",
        "      dic[char] = i\n",
        "    else:\n",
        "      result "
      ],
      "execution_count": 0,
      "outputs": []
    },
    {
      "cell_type": "code",
      "metadata": {
        "id": "AoQ0jxW7Rtx2",
        "colab_type": "code",
        "colab": {}
      },
      "source": [
        "def dist(str,ls):\n",
        "  \n",
        "  arr = []\n",
        "  for i in range(0,len(str)):\n",
        "    if str[i] == ls[0] or str[i] ==ls[1]:\n",
        "      arr.append(i)\n",
        "  output = max(arr)- min(arr)\n",
        "  return output"
      ],
      "execution_count": 0,
      "outputs": []
    },
    {
      "cell_type": "code",
      "metadata": {
        "id": "54cMc5M6S09U",
        "colab_type": "code",
        "outputId": "aa847800-094c-4044-c56a-938c157192ef",
        "colab": {
          "base_uri": "https://localhost:8080/",
          "height": 35
        }
      },
      "source": [
        "dist('abcdc',['a','c'])"
      ],
      "execution_count": 0,
      "outputs": [
        {
          "output_type": "execute_result",
          "data": {
            "text/plain": [
              "4"
            ]
          },
          "metadata": {
            "tags": []
          },
          "execution_count": 34
        }
      ]
    },
    {
      "cell_type": "markdown",
      "metadata": {
        "id": "BDNR3cc-b_IE",
        "colab_type": "text"
      },
      "source": [
        ""
      ]
    },
    {
      "cell_type": "code",
      "metadata": {
        "id": "tpyEPt0EpU11",
        "colab_type": "code",
        "colab": {}
      },
      "source": [
        "def removeDuplicate(nums):\n",
        "\n",
        "  myset = set()\n",
        "  for num in nums:\n",
        "    if num in myset:\n",
        "      continue\n",
        "    else:\n",
        "      myset.add(num)\n",
        "\n",
        "  return len(myset)"
      ],
      "execution_count": 0,
      "outputs": []
    },
    {
      "cell_type": "code",
      "metadata": {
        "id": "j-9xuiiopnxv",
        "colab_type": "code",
        "outputId": "810b257e-e0b0-47d0-db9c-f2a380fc64ac",
        "colab": {
          "base_uri": "https://localhost:8080/",
          "height": 51
        }
      },
      "source": [
        "removeDuplicate([1,1,2,2])"
      ],
      "execution_count": 0,
      "outputs": [
        {
          "output_type": "stream",
          "text": [
            "{1, 2}\n"
          ],
          "name": "stdout"
        },
        {
          "output_type": "execute_result",
          "data": {
            "text/plain": [
              "2"
            ]
          },
          "metadata": {
            "tags": []
          },
          "execution_count": 17
        }
      ]
    },
    {
      "cell_type": "markdown",
      "metadata": {
        "id": "_w8lbzJFok02",
        "colab_type": "text"
      },
      "source": [
        ""
      ]
    },
    {
      "cell_type": "code",
      "metadata": {
        "id": "SulFMPNBN0XJ",
        "colab_type": "code",
        "colab": {}
      },
      "source": [
        "def reverseString(string):\n",
        "  rev = []\n",
        "  string_new = list(string)\n",
        "  print(string_new)\n",
        "  for i in range(len(string_new)-1,0):\n",
        "    rev.append(string_new[i])\n",
        "  \n",
        "  return rev\n",
        " "
      ],
      "execution_count": 0,
      "outputs": []
    },
    {
      "cell_type": "code",
      "metadata": {
        "id": "wvvtK-77OeSU",
        "colab_type": "code",
        "outputId": "323cc5b3-b8eb-4c03-9eb8-6d8aab47bb3a",
        "colab": {
          "base_uri": "https://localhost:8080/",
          "height": 72
        }
      },
      "source": [
        "reverseString(\"bolofinde\")"
      ],
      "execution_count": 0,
      "outputs": [
        {
          "output_type": "stream",
          "text": [
            "['b', 'o', 'l', 'o', 'f', 'i', 'n', 'd', 'e']\n"
          ],
          "name": "stdout"
        },
        {
          "output_type": "execute_result",
          "data": {
            "text/plain": [
              "[]"
            ]
          },
          "metadata": {
            "tags": []
          },
          "execution_count": 20
        }
      ]
    },
    {
      "cell_type": "code",
      "metadata": {
        "id": "rEN0QQ-lwXLl",
        "colab_type": "code",
        "outputId": "695477c9-0f3f-4457-b67e-d8e082551698",
        "colab": {
          "base_uri": "https://localhost:8080/",
          "height": 152
        }
      },
      "source": [
        "public class Solution {\n",
        "    public String reverseString(String s) {\n",
        "        char[] word = s.toCharArray();\n",
        "        int i = 0;\n",
        "        int j = s.length() - 1;\n",
        "        while (i < j) {\n",
        "            char temp = word[i];\n",
        "            word[i] = word[j];\n",
        "            word[j] = temp;\n",
        "            i++;\n",
        "            j--;\n",
        "        }\n",
        "        return new String(word);\n",
        "    }\n",
        "}"
      ],
      "execution_count": 0,
      "outputs": [
        {
          "output_type": "error",
          "ename": "SyntaxError",
          "evalue": "ignored",
          "traceback": [
            "\u001b[0;36m  File \u001b[0;32m\"<ipython-input-1-bfb27fa74863>\"\u001b[0;36m, line \u001b[0;32m1\u001b[0m\n\u001b[0;31m    public class Solution {\u001b[0m\n\u001b[0m               ^\u001b[0m\n\u001b[0;31mSyntaxError\u001b[0m\u001b[0;31m:\u001b[0m invalid syntax\n"
          ]
        }
      ]
    },
    {
      "cell_type": "code",
      "metadata": {
        "id": "_Ge_hUKP48wf",
        "colab_type": "code",
        "outputId": "5441f789-056d-4267-aa22-afa1989c517f",
        "colab": {
          "base_uri": "https://localhost:8080/",
          "height": 152
        }
      },
      "source": [
        "  ls=[]\n",
        "        for i in range(1,n+1):\n",
        "            if i%3==0 and i%5==0:\n",
        "                ls.append(\"FizzBuzz\")\n",
        "            elif i%3==0:\n",
        "                ls.append(\"Fizz\")\n",
        "            elif i%5==0:\n",
        " \u001a\u0001\u0001\u0001\u0001\u0001               ls.append(\"Buzz\")\n",
        "            else:\n",
        "                ls.append(str(i))\n",
        "        return ls\n",
        "        pass"
      ],
      "execution_count": 0,
      "outputs": [
        {
          "output_type": "error",
          "ename": "IndentationError",
          "evalue": "ignored",
          "traceback": [
            "\u001b[0;36m  File \u001b[0;32m\"<ipython-input-2-8c415a012a18>\"\u001b[0;36m, line \u001b[0;32m2\u001b[0m\n\u001b[0;31m    for i in range(1,n+1):\u001b[0m\n\u001b[0m    ^\u001b[0m\n\u001b[0;31mIndentationError\u001b[0m\u001b[0;31m:\u001b[0m unexpected indent\n"
          ]
        }
      ]
    },
    {
      "cell_type": "code",
      "metadata": {
        "id": "U91G8H3Q5ApW",
        "colab_type": "code",
        "colab": {}
      },
      "source": [
        "from collections import Counter\n",
        "def non_repeating_char(s):\n",
        "  dic = Counter(s)\n",
        "\n",
        "  for i,char in enumerate(s):\n",
        "    if dic[char] ==1:\n",
        "      return char\n",
        "    "
      ],
      "execution_count": 0,
      "outputs": []
    },
    {
      "cell_type": "code",
      "metadata": {
        "id": "_ce3R2N6b5PI",
        "colab_type": "code",
        "outputId": "add9ed28-4c08-4fd7-975e-5bff4d37a748",
        "colab": {
          "base_uri": "https://localhost:8080/",
          "height": 55
        }
      },
      "source": [
        "non_repeating_char(\"bbolofinde\")"
      ],
      "execution_count": 0,
      "outputs": [
        {
          "output_type": "execute_result",
          "data": {
            "text/plain": [
              "'l'"
            ]
          },
          "metadata": {
            "tags": []
          },
          "execution_count": 9
        }
      ]
    },
    {
      "cell_type": "code",
      "metadata": {
        "id": "ZGzbygrjepN-",
        "colab_type": "code",
        "colab": {}
      },
      "source": [
        "def string_reversion(s):\n",
        "\n",
        "  result = []\n",
        "\n",
        "  for i in range(len(s)-1,-1,-1):\n",
        "    result.append(s[i])\n",
        "  \n",
        "  return \"\".join(result)\n",
        "\n",
        "  \n"
      ],
      "execution_count": 0,
      "outputs": []
    },
    {
      "cell_type": "code",
      "metadata": {
        "id": "PKDykVNygl19",
        "colab_type": "code",
        "outputId": "963d17cd-4955-4fbf-d7ca-717f933d2aed",
        "colab": {
          "base_uri": "https://localhost:8080/",
          "height": 35
        }
      },
      "source": [
        "string_reversion(\"bolofinde\")"
      ],
      "execution_count": 0,
      "outputs": [
        {
          "output_type": "execute_result",
          "data": {
            "text/plain": [
              "'ednifolob'"
            ]
          },
          "metadata": {
            "tags": []
          },
          "execution_count": 35
        }
      ]
    },
    {
      "cell_type": "code",
      "metadata": {
        "id": "3CuASt_oy7MZ",
        "colab_type": "code",
        "colab": {}
      },
      "source": [
        "mydic = {\"dammy\":29,\"victor\":36,\"adriel\":2}"
      ],
      "execution_count": 0,
      "outputs": []
    },
    {
      "cell_type": "code",
      "metadata": {
        "id": "oFUA0RLfy--l",
        "colab_type": "code",
        "outputId": "a043888c-165a-4333-b967-e2f6d4567506",
        "colab": {
          "base_uri": "https://localhost:8080/",
          "height": 55
        }
      },
      "source": [
        "keyss =list(mydic.keys())\n",
        "print(keyss)"
      ],
      "execution_count": 0,
      "outputs": [
        {
          "output_type": "stream",
          "text": [
            "['dammy', 'victor', 'adriel']\n"
          ],
          "name": "stdout"
        }
      ]
    },
    {
      "cell_type": "code",
      "metadata": {
        "id": "sP0gNy37zXa1",
        "colab_type": "code",
        "outputId": "c04732bd-16bd-4d8a-abe8-8097a68ec990",
        "colab": {
          "base_uri": "https://localhost:8080/",
          "height": 55
        }
      },
      "source": [
        "print(sorted(keyss))"
      ],
      "execution_count": 0,
      "outputs": [
        {
          "output_type": "stream",
          "text": [
            "['adriel', 'dammy', 'victor']\n"
          ],
          "name": "stdout"
        }
      ]
    },
    {
      "cell_type": "code",
      "metadata": {
        "id": "bVi-a6VC9OdG",
        "colab_type": "code",
        "colab": {}
      },
      "source": [
        ""
      ],
      "execution_count": 0,
      "outputs": []
    },
    {
      "cell_type": "code",
      "metadata": {
        "id": "KDei-2qq9Onn",
        "colab_type": "code",
        "colab": {}
      },
      "source": [
        "def largestContiniousSum(nums):\n",
        "\n",
        "  max_num = current_sum =nums[0]\n",
        "\n",
        "  for num in nums[1:]:\n",
        "\n",
        "    current_sum = max(current_sum+num,current_sum)\n",
        "    max_sum = max(max_num,current_sum)\n",
        "  return max_sum"
      ],
      "execution_count": 0,
      "outputs": []
    },
    {
      "cell_type": "code",
      "metadata": {
        "id": "tCI7ssReK9BJ",
        "colab_type": "code",
        "colab": {}
      },
      "source": [
        ""
      ],
      "execution_count": 0,
      "outputs": []
    },
    {
      "cell_type": "code",
      "metadata": {
        "id": "YxXMMH_HLxzN",
        "colab_type": "code",
        "outputId": "476da6dd-3034-48d8-d076-e1d8ccab8434",
        "colab": {
          "base_uri": "https://localhost:8080/",
          "height": 34
        }
      },
      "source": [
        "largestContiniousSum([1,2,3,4,-15])"
      ],
      "execution_count": 0,
      "outputs": [
        {
          "output_type": "execute_result",
          "data": {
            "text/plain": [
              "10"
            ]
          },
          "metadata": {
            "tags": []
          },
          "execution_count": 12
        }
      ]
    },
    {
      "cell_type": "code",
      "metadata": {
        "id": "-fYPrqdIQRQo",
        "colab_type": "code",
        "colab": {}
      },
      "source": [
        "sol = SolutionReverseString()"
      ],
      "execution_count": 0,
      "outputs": []
    },
    {
      "cell_type": "code",
      "metadata": {
        "id": "b32DRWhiQVxi",
        "colab_type": "code",
        "outputId": "c4dabca9-f7d4-47a2-aa0e-da2d010e56c5",
        "colab": {
          "base_uri": "https://localhost:8080/",
          "height": 246
        }
      },
      "source": [
        "sol.reverse(\"bolofinde\")"
      ],
      "execution_count": 0,
      "outputs": [
        {
          "output_type": "error",
          "ename": "NameError",
          "evalue": "ignored",
          "traceback": [
            "\u001b[0;31m---------------------------------------------------------------------------\u001b[0m",
            "\u001b[0;31mNameError\u001b[0m                                 Traceback (most recent call last)",
            "\u001b[0;32m<ipython-input-29-197f79b4274b>\u001b[0m in \u001b[0;36m<module>\u001b[0;34m()\u001b[0m\n\u001b[0;32m----> 1\u001b[0;31m \u001b[0msol\u001b[0m\u001b[0;34m.\u001b[0m\u001b[0mreverse\u001b[0m\u001b[0;34m(\u001b[0m\u001b[0;34m\"bolofinde\"\u001b[0m\u001b[0;34m)\u001b[0m\u001b[0;34m\u001b[0m\u001b[0;34m\u001b[0m\u001b[0m\n\u001b[0m",
            "\u001b[0;32m<ipython-input-27-4db5c63acde3>\u001b[0m in \u001b[0;36mreverse\u001b[0;34m(self, string)\u001b[0m\n\u001b[1;32m      8\u001b[0m       \u001b[0;32mreturn\u001b[0m \u001b[0mstring\u001b[0m\u001b[0;34m\u001b[0m\u001b[0;34m\u001b[0m\u001b[0m\n\u001b[1;32m      9\u001b[0m \u001b[0;34m\u001b[0m\u001b[0m\n\u001b[0;32m---> 10\u001b[0;31m     \u001b[0;32mreturn\u001b[0m \u001b[0mreverse\u001b[0m\u001b[0;34m(\u001b[0m\u001b[0mstring\u001b[0m\u001b[0;34m[\u001b[0m\u001b[0;36m1\u001b[0m\u001b[0;34m:\u001b[0m\u001b[0;34m]\u001b[0m\u001b[0;34m)\u001b[0m\u001b[0;34m+\u001b[0m\u001b[0mstring\u001b[0m\u001b[0;34m[\u001b[0m\u001b[0;36m0\u001b[0m\u001b[0;34m]\u001b[0m\u001b[0;34m\u001b[0m\u001b[0;34m\u001b[0m\u001b[0m\n\u001b[0m",
            "\u001b[0;31mNameError\u001b[0m: name 'reverse' is not defined"
          ]
        }
      ]
    },
    {
      "cell_type": "code",
      "metadata": {
        "id": "lm6cR_Dmeki2",
        "colab_type": "code",
        "colab": {}
      },
      "source": [
        ""
      ],
      "execution_count": 0,
      "outputs": []
    },
    {
      "cell_type": "code",
      "metadata": {
        "id": "Oj0vdp1relgo",
        "colab_type": "code",
        "colab": {}
      },
      "source": [
        "import logging"
      ],
      "execution_count": 0,
      "outputs": []
    },
    {
      "cell_type": "code",
      "metadata": {
        "id": "IN4wKn-8ekTI",
        "colab_type": "code",
        "colab": {}
      },
      "source": [
        ""
      ],
      "execution_count": 0,
      "outputs": []
    },
    {
      "cell_type": "code",
      "metadata": {
        "colab_type": "code",
        "id": "Q9iLV_u7bXqT",
        "colab": {}
      },
      "source": [
        "def string_reversion(s):\n",
        "\n",
        "  result = []\n",
        "\n",
        "  for i in range(len(s)-1,-1,-1):\n",
        "    result.append(s[i])\n",
        "  \n",
        "  return \"\".join(result)\n",
        "\n",
        "  \n"
      ],
      "execution_count": 0,
      "outputs": []
    },
    {
      "cell_type": "code",
      "metadata": {
        "id": "FM58-T67bYXm",
        "colab_type": "code",
        "colab": {}
      },
      "source": [
        "def sentenceRev(sent):\n",
        "  result = []\n",
        "  new_sent = sent.split()\n",
        "  for i in range(len(new_sent)-1,-1,-1):\n",
        "    result.append(new_sent[i])\n",
        "\n",
        "  return \" \".join(result)"
      ],
      "execution_count": 0,
      "outputs": []
    },
    {
      "cell_type": "code",
      "metadata": {
        "id": "R6L6bpLdbtci",
        "colab_type": "code",
        "colab": {
          "base_uri": "https://localhost:8080/",
          "height": 34
        },
        "outputId": "39867c87-1314-4a2b-c3cc-98b01483fd27"
      },
      "source": [
        "sentenceRev(\"bolofinde olusegun victor\")"
      ],
      "execution_count": 6,
      "outputs": [
        {
          "output_type": "execute_result",
          "data": {
            "text/plain": [
              "'victor olusegun bolofinde'"
            ]
          },
          "metadata": {
            "tags": []
          },
          "execution_count": 6
        }
      ]
    }
  ]
}